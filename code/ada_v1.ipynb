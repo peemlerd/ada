{
 "cells": [
  {
   "cell_type": "markdown",
   "metadata": {},
   "source": [
    "Last updated: Jan 22nd, 2022\n",
    "\n",
    "About: I used this notebook to explore the first dataset (Youtube_Data_V4.csv). \n",
    "Finding: Some features are redundant and have absurdly high values. I requested a new dataset and switched to other notebook."
   ]
  },
  {
   "cell_type": "code",
   "execution_count": 28,
   "metadata": {},
   "outputs": [],
   "source": [
    "import numpy as np\n",
    "import pandas as pd\n",
    "import matplotlib.pyplot as plt\n",
    "import altair as alt\n",
    "pd.options.display.float_format = '{:20,.2f}'.format"
   ]
  },
  {
   "cell_type": "code",
   "execution_count": 29,
   "metadata": {},
   "outputs": [],
   "source": [
    "# Checking the status of the download.\n",
    "df = pd.read_csv(\"Youtube_Data_V4.csv\")\n",
    "col_name = df.columns"
   ]
  },
  {
   "cell_type": "code",
   "execution_count": 30,
   "metadata": {},
   "outputs": [],
   "source": [
    "newdf = pd.read_csv(\"Youtube_Data_V4.csv\")"
   ]
  },
  {
   "cell_type": "code",
   "execution_count": 32,
   "metadata": {},
   "outputs": [],
   "source": [
    "# Define functions to help with data cleaning, detection process. \n",
    "# TODO: Top-down design which functions are needed for cleaning purpose. \n",
    "\n",
    "def length_over_thresh(thresh, text):\n",
    "    # Usage: on apply.\n",
    "    # Count if the length of each field exceeds the expected length.\n",
    "    if len(str(text)) >= thresh:\n",
    "        return True\n",
    "    return False\n",
    "\n",
    "def publishedAtparser(date):\n",
    "    # TODO: Implement\n",
    "    # Usage: Take in the input of text length. Return a list of integers corresponding to month, date, year.\n",
    "    pass\n",
    "\n",
    "def checkQuant(text):\n",
    "    # Usage: Check if the input of a supposedly quantitative variable is actually quantitative. \n",
    "    # Return: True, if the field can be converted to a float (i.e. is a quantitative). False otherwise. \n",
    "    ndigit = 9\n",
    "    if length_over_thresh(ndigit, text):\n",
    "        return False\n",
    "    else:\n",
    "        try:\n",
    "            text = float(text)\n",
    "            return True\n",
    "        except:\n",
    "            return False     "
   ]
  },
  {
   "cell_type": "code",
   "execution_count": 33,
   "metadata": {},
   "outputs": [],
   "source": [
    "def cresponseRate(viewCount, likeCount, dislikeCount):\n",
    "    # Check how many people who watch the videos are liked, disliked. \n",
    "    if viewCount == 0:\n",
    "        return 0\n",
    "    else:\n",
    "        if likeCount + dislikeCount > viewCount:\n",
    "            return 0\n",
    "        else:\n",
    "            return (likeCount + dislikeCount)/viewCount"
   ]
  },
  {
   "cell_type": "code",
   "execution_count": 34,
   "metadata": {},
   "outputs": [],
   "source": [
    "# Classifying each quantitative variables by itself.\n",
    "qvldcount = ['viewCount', 'likeCount', 'dislikeCount', 'dislikeCount.1']\n",
    "qmetadata = [\"contentDuration\", \"channelSubscriberCount\", \"totalwords_description\"]\n",
    "qreadability = [\"Flesh_kincaid_Grade\", \"Automated_Readability_Index\"]\n",
    "qsentiment = [\"neg\", \"neu\", \"pos\"]\n",
    "qdescription = [\"totalwords_description\", 'summary_word_Count', 'transition_word_Count', 'verb_count']\n",
    "qdescription += ['active_verbs_count', 'passive_verb_count','description_sentence_count']\n",
    "\n",
    "# Total = list of all quantitative variables names. \n",
    "total = qvldcount + qmetadata + qreadability + qsentiment + qdescription \n",
    "\n",
    "# Checking if each quantitative variable actually holds the correct type. \n",
    "for colname in total:\n",
    "    df[colname + \"isQuant\"] = df.apply(lambda row: checkQuant(row[colname]), axis = 1)"
   ]
  },
  {
   "cell_type": "code",
   "execution_count": 35,
   "metadata": {},
   "outputs": [],
   "source": [
    "# PART 1.1: Obtain an index of rows where quantitative entries are actually not quantitative.\n",
    "\n",
    "# Obtain colnames to index\n",
    "temp = []\n",
    "for colname in total:\n",
    "    temp.append(colname + \"isQuant\")\n",
    "\n",
    "# Compute AND-operator on isQuant variables. \n",
    "df[\"status\"] = df[\"viewCountisQuant\"]\n",
    "for colname in temp:\n",
    "    df[\"status\"] = df[\"status\"] * df[colname]\n",
    "\n",
    "isNotQuant = df[df[\"status\"] == False].index.tolist()"
   ]
  },
  {
   "cell_type": "code",
   "execution_count": 36,
   "metadata": {},
   "outputs": [
    {
     "name": "stdout",
     "output_type": "stream",
     "text": [
      "The following row contains str quant variable: [2195, 2974, 3007, 3008, 3019, 3020, 3032, 3033, 4695, 7043, 8026, 8339, 8340, 10176, 10177, 10180, 10181, 10443, 10444]\n",
      "isNotQuant successfully dropped.\n"
     ]
    }
   ],
   "source": [
    "# Filter out rows with problematic quantitative variables. \n",
    "print(\"The following row contains str quant variable:\", isNotQuant)\n",
    "dfcopy = df.copy()\n",
    "try:\n",
    "    df = df.drop(index = isNotQuant)\n",
    "    print(\"isNotQuant successfully dropped.\")\n",
    "    df.reset_index()\n",
    "except:\n",
    "    print(\"Resetting index\")\n",
    "    df.reset_index()"
   ]
  },
  {
   "cell_type": "code",
   "execution_count": 37,
   "metadata": {},
   "outputs": [],
   "source": [
    "# Drop missing values. \n",
    "df[df[\"dislikeCount\"] != df[\"dislikeCount.1\"]]\n",
    "try:\n",
    "    df.dropna(subset = [\"publishedAt\"], inplace = True)\n",
    "except:\n",
    "    print(\"NaN in publishedAt dropped.\")\n",
    "\n",
    "# Convert str quantitative variables into numeric\n",
    "for colname in total:\n",
    "    df[colname] = pd.to_numeric(df[colname])"
   ]
  },
  {
   "cell_type": "code",
   "execution_count": 38,
   "metadata": {},
   "outputs": [
    {
     "data": {
      "text/html": [
       "<div>\n",
       "<style scoped>\n",
       "    .dataframe tbody tr th:only-of-type {\n",
       "        vertical-align: middle;\n",
       "    }\n",
       "\n",
       "    .dataframe tbody tr th {\n",
       "        vertical-align: top;\n",
       "    }\n",
       "\n",
       "    .dataframe thead th {\n",
       "        text-align: right;\n",
       "    }\n",
       "</style>\n",
       "<table border=\"1\" class=\"dataframe\">\n",
       "  <thead>\n",
       "    <tr style=\"text-align: right;\">\n",
       "      <th></th>\n",
       "      <th>viewCount</th>\n",
       "      <th>likeCount</th>\n",
       "      <th>dislikeCount</th>\n",
       "      <th>dislikeCount.1</th>\n",
       "      <th>contentDuration</th>\n",
       "      <th>channelSubscriberCount</th>\n",
       "      <th>totalwords_description</th>\n",
       "      <th>Flesh_kincaid_Grade</th>\n",
       "      <th>Automated_Readability_Index</th>\n",
       "      <th>neg</th>\n",
       "      <th>neu</th>\n",
       "      <th>pos</th>\n",
       "      <th>summary_word_Count</th>\n",
       "      <th>transition_word_Count</th>\n",
       "      <th>verb_count</th>\n",
       "      <th>active_verbs_count</th>\n",
       "      <th>passive_verb_count</th>\n",
       "      <th>description_sentence_count</th>\n",
       "    </tr>\n",
       "  </thead>\n",
       "  <tbody>\n",
       "    <tr>\n",
       "      <th>count</th>\n",
       "      <td>11,096.00</td>\n",
       "      <td>11,096.00</td>\n",
       "      <td>11,096.00</td>\n",
       "      <td>11,096.00</td>\n",
       "      <td>11,093.00</td>\n",
       "      <td>11,088.00</td>\n",
       "      <td>10,203.00</td>\n",
       "      <td>11,086.00</td>\n",
       "      <td>11,086.00</td>\n",
       "      <td>11,093.00</td>\n",
       "      <td>11,093.00</td>\n",
       "      <td>11,093.00</td>\n",
       "      <td>11,093.00</td>\n",
       "      <td>11,093.00</td>\n",
       "      <td>11,095.00</td>\n",
       "      <td>11,095.00</td>\n",
       "      <td>11,095.00</td>\n",
       "      <td>11,086.00</td>\n",
       "    </tr>\n",
       "    <tr>\n",
       "      <th>mean</th>\n",
       "      <td>131,882.56</td>\n",
       "      <td>1,103.07</td>\n",
       "      <td>73.62</td>\n",
       "      <td>73.62</td>\n",
       "      <td>387.62</td>\n",
       "      <td>165,326.23</td>\n",
       "      <td>153.87</td>\n",
       "      <td>9.41</td>\n",
       "      <td>12.63</td>\n",
       "      <td>0.03</td>\n",
       "      <td>0.40</td>\n",
       "      <td>0.10</td>\n",
       "      <td>0.02</td>\n",
       "      <td>2.42</td>\n",
       "      <td>22.55</td>\n",
       "      <td>16.73</td>\n",
       "      <td>2.55</td>\n",
       "      <td>6.93</td>\n",
       "    </tr>\n",
       "    <tr>\n",
       "      <th>std</th>\n",
       "      <td>1,237,849.93</td>\n",
       "      <td>21,762.65</td>\n",
       "      <td>2,065.51</td>\n",
       "      <td>2,065.51</td>\n",
       "      <td>869.21</td>\n",
       "      <td>903,153.19</td>\n",
       "      <td>206.61</td>\n",
       "      <td>14.61</td>\n",
       "      <td>15.79</td>\n",
       "      <td>0.06</td>\n",
       "      <td>0.39</td>\n",
       "      <td>0.15</td>\n",
       "      <td>0.13</td>\n",
       "      <td>3.29</td>\n",
       "      <td>36.50</td>\n",
       "      <td>27.54</td>\n",
       "      <td>4.52</td>\n",
       "      <td>9.99</td>\n",
       "    </tr>\n",
       "    <tr>\n",
       "      <th>min</th>\n",
       "      <td>0.00</td>\n",
       "      <td>0.00</td>\n",
       "      <td>0.00</td>\n",
       "      <td>0.00</td>\n",
       "      <td>1.00</td>\n",
       "      <td>0.00</td>\n",
       "      <td>0.00</td>\n",
       "      <td>-15.70</td>\n",
       "      <td>-16.30</td>\n",
       "      <td>0.00</td>\n",
       "      <td>0.00</td>\n",
       "      <td>0.00</td>\n",
       "      <td>0.00</td>\n",
       "      <td>0.00</td>\n",
       "      <td>0.00</td>\n",
       "      <td>0.00</td>\n",
       "      <td>0.00</td>\n",
       "      <td>1.00</td>\n",
       "    </tr>\n",
       "    <tr>\n",
       "      <th>25%</th>\n",
       "      <td>229.75</td>\n",
       "      <td>1.00</td>\n",
       "      <td>0.00</td>\n",
       "      <td>0.00</td>\n",
       "      <td>67.00</td>\n",
       "      <td>75.00</td>\n",
       "      <td>18.00</td>\n",
       "      <td>6.60</td>\n",
       "      <td>7.10</td>\n",
       "      <td>0.00</td>\n",
       "      <td>0.00</td>\n",
       "      <td>0.00</td>\n",
       "      <td>0.00</td>\n",
       "      <td>0.00</td>\n",
       "      <td>1.00</td>\n",
       "      <td>1.00</td>\n",
       "      <td>0.00</td>\n",
       "      <td>1.00</td>\n",
       "    </tr>\n",
       "    <tr>\n",
       "      <th>50%</th>\n",
       "      <td>2,135.50</td>\n",
       "      <td>9.00</td>\n",
       "      <td>1.00</td>\n",
       "      <td>1.00</td>\n",
       "      <td>168.00</td>\n",
       "      <td>1,315.00</td>\n",
       "      <td>58.00</td>\n",
       "      <td>9.90</td>\n",
       "      <td>11.20</td>\n",
       "      <td>0.00</td>\n",
       "      <td>0.51</td>\n",
       "      <td>0.00</td>\n",
       "      <td>0.00</td>\n",
       "      <td>1.00</td>\n",
       "      <td>6.00</td>\n",
       "      <td>4.00</td>\n",
       "      <td>0.00</td>\n",
       "      <td>2.00</td>\n",
       "    </tr>\n",
       "    <tr>\n",
       "      <th>75%</th>\n",
       "      <td>24,019.50</td>\n",
       "      <td>116.25</td>\n",
       "      <td>8.00</td>\n",
       "      <td>8.00</td>\n",
       "      <td>388.00</td>\n",
       "      <td>21,990.75</td>\n",
       "      <td>197.00</td>\n",
       "      <td>13.10</td>\n",
       "      <td>15.00</td>\n",
       "      <td>0.05</td>\n",
       "      <td>0.77</td>\n",
       "      <td>0.17</td>\n",
       "      <td>0.00</td>\n",
       "      <td>3.00</td>\n",
       "      <td>25.00</td>\n",
       "      <td>18.00</td>\n",
       "      <td>3.00</td>\n",
       "      <td>7.00</td>\n",
       "    </tr>\n",
       "    <tr>\n",
       "      <th>max</th>\n",
       "      <td>82,532,868.00</td>\n",
       "      <td>2,146,177.00</td>\n",
       "      <td>212,994.00</td>\n",
       "      <td>212,994.00</td>\n",
       "      <td>26,156.00</td>\n",
       "      <td>20,748,887.00</td>\n",
       "      <td>1,118.00</td>\n",
       "      <td>307.90</td>\n",
       "      <td>392.60</td>\n",
       "      <td>1.00</td>\n",
       "      <td>1.00</td>\n",
       "      <td>1.00</td>\n",
       "      <td>2.00</td>\n",
       "      <td>22.00</td>\n",
       "      <td>223.00</td>\n",
       "      <td>170.00</td>\n",
       "      <td>37.00</td>\n",
       "      <td>61.00</td>\n",
       "    </tr>\n",
       "  </tbody>\n",
       "</table>\n",
       "</div>"
      ],
      "text/plain": [
       "                 viewCount            likeCount         dislikeCount  \\\n",
       "count            11,096.00            11,096.00            11,096.00   \n",
       "mean            131,882.56             1,103.07                73.62   \n",
       "std           1,237,849.93            21,762.65             2,065.51   \n",
       "min                   0.00                 0.00                 0.00   \n",
       "25%                 229.75                 1.00                 0.00   \n",
       "50%               2,135.50                 9.00                 1.00   \n",
       "75%              24,019.50               116.25                 8.00   \n",
       "max          82,532,868.00         2,146,177.00           212,994.00   \n",
       "\n",
       "            dislikeCount.1      contentDuration  channelSubscriberCount  \\\n",
       "count            11,096.00            11,093.00               11,088.00   \n",
       "mean                 73.62               387.62              165,326.23   \n",
       "std               2,065.51               869.21              903,153.19   \n",
       "min                   0.00                 1.00                    0.00   \n",
       "25%                   0.00                67.00                   75.00   \n",
       "50%                   1.00               168.00                1,315.00   \n",
       "75%                   8.00               388.00               21,990.75   \n",
       "max             212,994.00            26,156.00           20,748,887.00   \n",
       "\n",
       "       totalwords_description  Flesh_kincaid_Grade  \\\n",
       "count               10,203.00            11,086.00   \n",
       "mean                   153.87                 9.41   \n",
       "std                    206.61                14.61   \n",
       "min                      0.00               -15.70   \n",
       "25%                     18.00                 6.60   \n",
       "50%                     58.00                 9.90   \n",
       "75%                    197.00                13.10   \n",
       "max                  1,118.00               307.90   \n",
       "\n",
       "       Automated_Readability_Index                  neg                  neu  \\\n",
       "count                    11,086.00            11,093.00            11,093.00   \n",
       "mean                         12.63                 0.03                 0.40   \n",
       "std                          15.79                 0.06                 0.39   \n",
       "min                         -16.30                 0.00                 0.00   \n",
       "25%                           7.10                 0.00                 0.00   \n",
       "50%                          11.20                 0.00                 0.51   \n",
       "75%                          15.00                 0.05                 0.77   \n",
       "max                         392.60                 1.00                 1.00   \n",
       "\n",
       "                       pos   summary_word_Count  transition_word_Count  \\\n",
       "count            11,093.00            11,093.00              11,093.00   \n",
       "mean                  0.10                 0.02                   2.42   \n",
       "std                   0.15                 0.13                   3.29   \n",
       "min                   0.00                 0.00                   0.00   \n",
       "25%                   0.00                 0.00                   0.00   \n",
       "50%                   0.00                 0.00                   1.00   \n",
       "75%                   0.17                 0.00                   3.00   \n",
       "max                   1.00                 2.00                  22.00   \n",
       "\n",
       "                verb_count   active_verbs_count   passive_verb_count  \\\n",
       "count            11,095.00            11,095.00            11,095.00   \n",
       "mean                 22.55                16.73                 2.55   \n",
       "std                  36.50                27.54                 4.52   \n",
       "min                   0.00                 0.00                 0.00   \n",
       "25%                   1.00                 1.00                 0.00   \n",
       "50%                   6.00                 4.00                 0.00   \n",
       "75%                  25.00                18.00                 3.00   \n",
       "max                 223.00               170.00                37.00   \n",
       "\n",
       "       description_sentence_count  \n",
       "count                   11,086.00  \n",
       "mean                         6.93  \n",
       "std                          9.99  \n",
       "min                          1.00  \n",
       "25%                          1.00  \n",
       "50%                          2.00  \n",
       "75%                          7.00  \n",
       "max                         61.00  "
      ]
     },
     "execution_count": 38,
     "metadata": {},
     "output_type": "execute_result"
    }
   ],
   "source": [
    "# PART 2: EDA\n",
    "df.describe()"
   ]
  },
  {
   "cell_type": "code",
   "execution_count": 39,
   "metadata": {},
   "outputs": [
    {
     "data": {
      "text/plain": [
       "0                                                      NaN\n",
       "1                     Aweesomee job', 'woow!', '', 'Goood'\n",
       "2        By entering your blood test results and answer...\n",
       "3        hola chicos que tal', 'thank u so much perfect...\n",
       "4        Great!', 'Thank You so much Sir. You are great...\n",
       "                               ...                        \n",
       "11113    #healthylife365 i see, it is useful, thank you...\n",
       "11114    Get my diabetes diet and management guide here...\n",
       "11115    Here is the fastest method to cure diabetes: *...\n",
       "11116                                                  NaN\n",
       "11117    Great video!', \"Find ways to suppress lipolysi...\n",
       "Name: comment, Length: 11096, dtype: object"
      ]
     },
     "execution_count": 39,
     "metadata": {},
     "output_type": "execute_result"
    }
   ],
   "source": [
    "df[\"comment\"]"
   ]
  },
  {
   "cell_type": "code",
   "execution_count": 40,
   "metadata": {},
   "outputs": [
    {
     "data": {
      "text/plain": [
       "<AxesSubplot:>"
      ]
     },
     "execution_count": 40,
     "metadata": {},
     "output_type": "execute_result"
    },
    {
     "data": {
      "image/png": "[encoded data removed]",
      "text/plain": [
       "<Figure size 144x144 with 1 Axes>"
      ]
     },
     "metadata": {
      "needs_background": "light"
     },
     "output_type": "display_data"
    }
   ],
   "source": [
    "# Histogram of boxplots. \n",
    "df[[\"neu\", \"neg\", \"pos\"]].plot.box(vert = False, grid = True)"
   ]
  },
  {
   "cell_type": "code",
   "execution_count": 47,
   "metadata": {},
   "outputs": [
    {
     "data": {
      "image/png": "[encoded data removed]",
      "text/plain": [
       "<Figure size 1332x756 with 1 Axes>"
      ]
     },
     "metadata": {
      "needs_background": "light"
     },
     "output_type": "display_data"
    }
   ],
   "source": [
    "# Calculate responseRate\n",
    "df[\"responseRate\"] = df.apply(lambda row: cresponseRate(row[\"viewCount\"], row[\"likeCount\"], row[\"dislikeCount\"]), \n",
    "                              axis = 1)\n",
    "resp_mean = df[\"responseRate\"].describe()[\"mean\"]\n",
    "\n",
    "# Define people who repsonded as people who liked/disliked.\n",
    "# Dichotomize videos into two groups: those with above vs below average response.\n",
    "# Overall, the response rate of these videos are heavily skewed towards left.\n",
    "hresp_pos = df[df[\"responseRate\"] > resp_mean][\"pos\"]\n",
    "lresp_pos = df[df[\"responseRate\"] < resp_mean][\"pos\"]\n",
    "\n",
    "plt.style.use('_mpl-gallery')\n",
    "\n",
    "# Plot comparing the distribution of high-response vs low-response. \n",
    "# Finding: The video with more positive/negative sentiment enjoys more response (evidence shown this and cell below).\n",
    "fig, ax = plt.subplots()\n",
    "ax.hist(hresp_pos, bins=20, linewidth=0.5, color = \"blue\", density = True, edgecolor= \"white\", alpha = 0.2)\n",
    "ax.hist(lresp_pos, bins=20, linewidth = 0.5, color = \"red\", density = True, edgecolor = \"white\", alpha = 0.2)\n",
    "fig.set_size_inches(18.5, 10.5)"
   ]
  },
  {
   "cell_type": "code",
   "execution_count": 45,
   "metadata": {},
   "outputs": [
    {
     "data": {
      "image/png": "[encoded data removed]",
      "text/plain": [
       "<Figure size 1332x756 with 1 Axes>"
      ]
     },
     "metadata": {
      "needs_background": "light"
     },
     "output_type": "display_data"
    }
   ],
   "source": [
    "hresp_neg = df[df[\"responseRate\"] > resp_mean][\"neg\"]\n",
    "lresp_neg = df[df[\"responseRate\"] < resp_mean][\"neg\"]\n",
    "\n",
    "plt.style.use('_mpl-gallery')\n",
    "fig, ax = plt.subplots()\n",
    "\n",
    "ax.hist(hresp_neg, bins=20, linewidth=0.5, color = \"blue\", density = True, edgecolor= \"white\", alpha = 0.2)\n",
    "ax.hist(lresp_neg, bins=20, linewidth = 0.5, color = \"red\", density = True, edgecolor = \"white\", alpha = 0.2)\n",
    "fig.set_size_inches(18.5, 10.5)"
   ]
  },
  {
   "cell_type": "code",
   "execution_count": 1,
   "metadata": {},
   "outputs": [
    {
     "ename": "NameError",
     "evalue": "name 'df' is not defined",
     "output_type": "error",
     "traceback": [
      "\u001b[0;31m---------------------------------------------------------------------------\u001b[0m",
      "\u001b[0;31mNameError\u001b[0m                                 Traceback (most recent call last)",
      "Input \u001b[0;32mIn [1]\u001b[0m, in \u001b[0;36m<cell line: 4>\u001b[0;34m()\u001b[0m\n\u001b[1;32m      1\u001b[0m \u001b[38;5;66;03m# TODO: Result: Do not see any relationship between variables except from pos, neu, neg.\u001b[39;00m\n\u001b[1;32m      2\u001b[0m \u001b[38;5;66;03m# Altair only allows visualization up to 5,000 rows.\u001b[39;00m\n\u001b[0;32m----> 4\u001b[0m source \u001b[38;5;241m=\u001b[39m \u001b[43mdf\u001b[49m[\u001b[38;5;241m1\u001b[39m:\u001b[38;5;241m5000\u001b[39m]\n\u001b[1;32m      6\u001b[0m alt\u001b[38;5;241m.\u001b[39mChart(source)\u001b[38;5;241m.\u001b[39mmark_circle()\u001b[38;5;241m.\u001b[39mencode(\n\u001b[1;32m      7\u001b[0m     alt\u001b[38;5;241m.\u001b[39mX(alt\u001b[38;5;241m.\u001b[39mrepeat(\u001b[38;5;124m\"\u001b[39m\u001b[38;5;124mcolumn\u001b[39m\u001b[38;5;124m\"\u001b[39m), \u001b[38;5;28mtype\u001b[39m\u001b[38;5;241m=\u001b[39m\u001b[38;5;124m'\u001b[39m\u001b[38;5;124mquantitative\u001b[39m\u001b[38;5;124m'\u001b[39m),\n\u001b[1;32m      8\u001b[0m     alt\u001b[38;5;241m.\u001b[39mY(alt\u001b[38;5;241m.\u001b[39mrepeat(\u001b[38;5;124m\"\u001b[39m\u001b[38;5;124mrow\u001b[39m\u001b[38;5;124m\"\u001b[39m), \u001b[38;5;28mtype\u001b[39m\u001b[38;5;241m=\u001b[39m\u001b[38;5;124m'\u001b[39m\u001b[38;5;124mquantitative\u001b[39m\u001b[38;5;124m'\u001b[39m),\n\u001b[0;32m   (...)\u001b[0m\n\u001b[1;32m     15\u001b[0m     column\u001b[38;5;241m=\u001b[39m[\u001b[38;5;124m'\u001b[39m\u001b[38;5;124mpos\u001b[39m\u001b[38;5;124m'\u001b[39m, \u001b[38;5;124m'\u001b[39m\u001b[38;5;124mneu\u001b[39m\u001b[38;5;124m'\u001b[39m, \u001b[38;5;124m'\u001b[39m\u001b[38;5;124mneg\u001b[39m\u001b[38;5;124m'\u001b[39m, \u001b[38;5;124m'\u001b[39m\u001b[38;5;124mresponseRate\u001b[39m\u001b[38;5;124m'\u001b[39m]\n\u001b[1;32m     16\u001b[0m )\n",
      "\u001b[0;31mNameError\u001b[0m: name 'df' is not defined"
     ]
    }
   ],
   "source": [
    "# TODO: Result: Do not see any relationship between variables except from pos, neu, neg.\n",
    "# Altair only allows visualization up to 5,000 rows.\n",
    "\n",
    "source = df[1:5000]\n",
    "\n",
    "alt.Chart(source).mark_circle().encode(\n",
    "    alt.X(alt.repeat(\"column\"), type='quantitative'),\n",
    "    alt.Y(alt.repeat(\"row\"), type='quantitative'),\n",
    "    color='Origin:N'\n",
    ").properties(\n",
    "    width=150,\n",
    "    height=150\n",
    ").repeat(\n",
    "    row=['pos', 'neu', 'neg', 'responseRate'],\n",
    "    column=['pos', 'neu', 'neg', 'responseRate']\n",
    ")"
   ]
  },
  {
   "cell_type": "code",
   "execution_count": 56,
   "metadata": {},
   "outputs": [
    {
     "data": {
      "image/png": "[encoded data removed]",
      "text/plain": [
       "<Figure size 144x144 with 1 Axes>"
      ]
     },
     "metadata": {
      "needs_background": "light"
     },
     "output_type": "display_data"
    }
   ],
   "source": [
    "fig, ax = plt.subplots()\n",
    "ax.hist(df[\"viewCount\"], bins=20, linewidth=0.5, color = \"blue\", density = False, edgecolor= \"white\", alpha = 0.2)\n",
    "\n",
    "df.to_csv(\"rema_dataset.csv\")"
   ]
  },
  {
   "cell_type": "code",
   "execution_count": 51,
   "metadata": {},
   "outputs": [
    {
     "data": {
      "text/plain": [
       "0          5726\n",
       "1         40836\n",
       "2         29510\n",
       "3        462414\n",
       "4          7263\n",
       "          ...  \n",
       "11113      3097\n",
       "11114      9296\n",
       "11115      2387\n",
       "11116      1701\n",
       "11117     61162\n",
       "Name: viewCount, Length: 11096, dtype: int64"
      ]
     },
     "execution_count": 51,
     "metadata": {},
     "output_type": "execute_result"
    }
   ],
   "source": [
    "# checkQuant(\"off the person you want a compliment from the most! You are showing trust and vulnerability\")\n",
    "df[\"viewCount\"]"
   ]
  }
 ],
 "metadata": {
  "kernelspec": {
   "display_name": "Python 3 (ipykernel)",
   "language": "python",
   "name": "python3"
  },
  "language_info": {
   "codemirror_mode": {
    "name": "ipython",
    "version": 3
   },
   "file_extension": ".py",
   "mimetype": "text/x-python",
   "name": "python",
   "nbconvert_exporter": "python",
   "pygments_lexer": "ipython3",
   "version": "3.10.4"
  }
 },
 "nbformat": 4,
 "nbformat_minor": 2
}
