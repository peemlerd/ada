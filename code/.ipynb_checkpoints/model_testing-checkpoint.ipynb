{
 "cells": [
  {
   "cell_type": "markdown",
   "id": "da832ff7",
   "metadata": {},
   "source": [
    "# About\n",
    "\n",
    "Compilation of codes to test the classifiers."
   ]
  },
  {
   "cell_type": "code",
   "execution_count": null,
   "id": "6cfa1656",
   "metadata": {},
   "outputs": [],
   "source": [
    "def testClassifier(X, y, model_name, parameters = [], test_prop = 0.2):\n",
    "    \"\"\"\n",
    "    @param X > X_train, X_calib, X_test\n",
    "    @param y > y_train, y_calib, y_test\n",
    "    @param model: String of the name of models we want to test\n",
    "    Usage: This function is used to test the performance of a given classifier on confusion matrix,\n",
    "    precision, recall, f-score, etc. We allow fine-tuning to happen within this function using gridSearchCV.\n",
    "    Return: None\n",
    "    NOTE: We do not allow make_pipeline(StandardScaler(), classifier) for now.\n",
    "    \"\"\"\n",
    "    # Set random_state = 1 to compare between models.\n",
    "    X_train, X_test, y_train, y_test = train_test_split(X, y, test_size = test_prop, random_state = 1)\n",
    "\n",
    "    # Create and cross-validate the models over parameter space.\n",
    "    # The cross-validated dataset is X_train, y_train.\n",
    "    print(\"Below are the results of %s\" %(model_name))\n",
    "    weights = {0:3, 1:1}\n",
    "    if model_name == \"Logistic\":\n",
    "        model = LogisticRegression(solver = \"lbfgs\", penalty = \"l2\",class_weight=weights)\n",
    "    elif model_name == \"SVM\":\n",
    "        model = GridSearchCV(SVC(probability = True, class_weight = weights),parameters)\n",
    "    elif model_name == \"RandomForest\":\n",
    "        model = GridSearchCV(RandomForestClassifier(class_weight = weights), parameters)\n",
    "\n",
    "    # Start predicting on test set using best model on X_test, y_test.\n",
    "    model.fit(X_train, y_train)\n",
    "    try:\n",
    "        best = model.best_estimator_\n",
    "    except:\n",
    "        best = model\n",
    "    yhat = best.predict(X_test)\n",
    "\n",
    "    print(\"Displaying prediction\")\n",
    "    # Display prediction result as follows: confusion matrix, accuracy, precision, recall, fscore\n",
    "    prediction = list(map(round, yhat))\n",
    "\n",
    "    ## Confusion matrix\n",
    "    cm = confusion_matrix(y_test, prediction)\n",
    "    tn, fp, fn, tp = cm.ravel() # Read from top left > bottom right\n",
    "    print (\"Confusion Matrix : \\n\", cm)\n",
    "\n",
    "    ## Accuracy, precision, etc.\n",
    "    print('Accuracy =  %.2f' %(accuracy_score(y_test, prediction)))\n",
    "    precision, recall, fscore, support = precision_recall_fscore_support(y_test, prediction, pos_label = 1,\n",
    "                                                                         average = \"binary\")\n",
    "    print(\"Precision = %.2f\\n Recall = %.2f\\n F-score = %.2f\" %(precision, recall, fscore))\n",
    "\n",
    "    return X_test, y_test, best"
   ]
  },
  {
   "cell_type": "code",
   "execution_count": null,
   "id": "2fdbeeaf",
   "metadata": {},
   "outputs": [],
   "source": [
    "# Define all variables Xiao used\n",
    "df600[\"has_title\"] = [int(has_title) for has_title in df600[\"title\"].isna()]\n",
    "df600[\"has_description\"] = [int(has_description) for has_description in df600[\"description\"].isna()]"
   ]
  },
  {
   "cell_type": "code",
   "execution_count": null,
   "id": "17727cc4",
   "metadata": {},
   "outputs": [],
   "source": [
    "# Model 1: Use every numerical variable\n",
    "# TODO: Lack transcript medical term and description medical term\n",
    "# keyword_description_cosine; keyword_title_cosine; video_duration; ARI \n",
    "pl = [\"has_description\", \"ARI\", \"video_duration\", \"keyword_title_cosine\"]\n",
    "xiaof1 = [\"has_description\", \"has_title\", \"ARI\", \"active_verb\",\"summary_words\"]\n",
    "xiaof1 += [\"transition_words\",\"video_duration\",\"word_count\",\"sentence_count\",\"word_unique\"]\n",
    "xiaof2 = [\"text_confidence\",\"ARIf2\",\"active_verbf2\",\"summary_wordsf2\",\"transition_wordsf2\",\"speech_confidence\"]\n",
    "xiaof2 += [\"scene_count\",\"object_count\",\"word_uniquef2\",\"sentence_countf2\"]\n",
    "X = df600[xiaof1+xiaof2]\n",
    "y = df600[\"understand\"]\n",
    "\n",
    "# Set random_state = 1 to compare between models. \n",
    "X_train, X_test, y_train, y_test = train_test_split(X, y, test_size = 0.2, random_state = 1)\n",
    "X_train, X_calib, y_train, y_calib = train_test_split(X_train, y_train, test_size = 0.12, random_state = 1)"
   ]
  },
  {
   "cell_type": "code",
   "execution_count": null,
   "id": "d841195c",
   "metadata": {},
   "outputs": [],
   "source": [
    "# Testing for logistic regression\n",
    "model_name = \"Logistic\"\n",
    "X_test, y_test, model = testClassifier(X, y, model_name)\n",
    "print(model.coef_)\n",
    "createROC(X_test, y_test, model, model_name)"
   ]
  },
  {
   "cell_type": "code",
   "execution_count": null,
   "id": "6683ffa9",
   "metadata": {},
   "outputs": [],
   "source": [
    "# Testing SVM\n",
    "model_name = \"SVM\"\n",
    "grid = {'kernel':['rbf'], 'C': np.arange(1,10,2)}\n",
    "X_test, y_test, model = testClassifier(X, y, model_name, parameters = grid)\n",
    "createROC(X_test, y_test, model, model_name)"
   ]
  },
  {
   "cell_type": "code",
   "execution_count": null,
   "id": "6854a709",
   "metadata": {},
   "outputs": [],
   "source": [
    "# Testing Random Forest\n",
    "n_estimators = np.arange(10, 200, 20)\n",
    "max_depth = np.arange(1,5)\n",
    "grid = {'n_estimators':n_estimators, 'max_depth':max_depth}\n",
    "model_name = \"RandomForest\"\n",
    "X_test, y_test, model = testClassifier(X, y, model_name, parameters = grid)\n",
    "#print(model.coef_)\n",
    "createROC(X_test, y_test, model, model_name)"
   ]
  }
 ],
 "metadata": {
  "kernelspec": {
   "display_name": "Python 3 (ipykernel)",
   "language": "python",
   "name": "python3"
  },
  "language_info": {
   "codemirror_mode": {
    "name": "ipython",
    "version": 3
   },
   "file_extension": ".py",
   "mimetype": "text/x-python",
   "name": "python",
   "nbconvert_exporter": "python",
   "pygments_lexer": "ipython3",
   "version": "3.10.4"
  }
 },
 "nbformat": 4,
 "nbformat_minor": 5
}
