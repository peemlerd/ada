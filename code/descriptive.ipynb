{
 "cells": [
  {
   "cell_type": "markdown",
   "id": "0e9573ed",
   "metadata": {},
   "source": [
    "# About\n",
    "\n",
    "This notebook is primarily used for EDA, testing models, and channel-level analysis. Specifically, I want to explore whether there is any relationship between labels and feature values. For instance, do more understandable videos tend to have shorter description? Which channels do they come from? "
   ]
  },
  {
   "cell_type": "code",
   "execution_count": null,
   "id": "ee228e35",
   "metadata": {},
   "outputs": [],
   "source": [
    "from helper_fn import *\n",
    "import seaborn as sns\n",
    "import re"
   ]
  },
  {
   "cell_type": "code",
   "execution_count": 36,
   "id": "4c4ee489",
   "metadata": {},
   "outputs": [],
   "source": [
    "def isMisinfo(text):\n",
    "    # NOTE: The labelled data is stored as Yes/No.\n",
    "    if text.lower().strip() == \"yes\":\n",
    "        return 1\n",
    "    else:\n",
    "        return 0\n",
    "    \n",
    "def getID(URL):\n",
    "    if URL == None:\n",
    "        return\n",
    "    else:\n",
    "        URL = re.sub(r'http\\S+=', '', URL)\n",
    "        URL = re.sub(r'http\\S+/', '', URL)\n",
    "        return URL"
   ]
  },
  {
   "cell_type": "markdown",
   "id": "f53987b4",
   "metadata": {},
   "source": [
    "# Download available dataframes\n",
    "\n",
    "1. df: A dataframe of 12,000 videos without labels.\n",
    "2. df600: A dataframe of 600 videos with labels.\n",
    "3. df_mis: A dataftame with labels on misinformation\n",
    "\n"
   ]
  },
  {
   "cell_type": "code",
   "execution_count": null,
   "id": "d72425d3",
   "metadata": {},
   "outputs": [],
   "source": [
    "# Load the dictionary of PEMAT. \n",
    "f = open(\"PEMAT_dict.pkl\",\"rb\")\n",
    "PEMAT_dict = pickle.load(f)"
   ]
  },
  {
   "cell_type": "code",
   "execution_count": 37,
   "id": "29e25845",
   "metadata": {},
   "outputs": [],
   "source": [
    "# NOTE: df should have 56 columns because we don't have labels on actionability, understandability, etc.\n",
    "df = pd.read_csv(\"merged_and_cleaned12k.csv\", sep = \",\").dropna(how = \"all\").drop(columns = [\"Unnamed: 0\"])\n",
    "df600 = pd.read_csv(\"merged_and_cleaned600.csv\", sep = \",\").drop(columns = [\"Unnamed: 0\"])\n",
    "df_label = pd.read_csv(\"rawPEMAT.csv\", sep = \",\").drop(columns = [\"Unnamed: 0\"])\n",
    "df_annotate = pd.read_csv(\"AnnotatedVideoFeatures.csv\", sep = \",\")\n",
    "\n",
    "# Download misinformation labels and rename columns\n",
    "df_mis = pd.read_csv(\"misinformation.csv\", lineterminator = \"\\r\")\n",
    "df_mis = df_mis.drop(columns = df_mis.columns[4:]).dropna(subset = [\"URL\"])\n",
    "df_mis[\"video_id\"] = df_mis[\"URL\"].map(getID)\n",
    "\n",
    "# Rename the columns\n",
    "rename = {}\n",
    "for col in df_mis.columns.tolist():\n",
    "    rename[col] = col.lower().strip()\n",
    "df_mis = df_mis.rename(columns=rename)\n",
    "\n",
    "# Obtain the video_id\n",
    "cur_index = df_mis[df_mis[\"title\"] == \"Latent autoimmune diabetes of adults\"].index.tolist()[0]\n",
    "df_mis = df_mis[:cur_index]\n",
    "\n",
    "# Convert misinformation into indicator\n",
    "df_mis[\"misinformation\"] = df_mis[\"misinformation\"].fillna(\"No\")\n",
    "df_mis[\"misinformation\"] = df_mis[\"misinformation\"].map(isMisinfo)"
   ]
  },
  {
   "cell_type": "code",
   "execution_count": 38,
   "id": "30511d56",
   "metadata": {},
   "outputs": [],
   "source": [
    "df600 = pd.merge(df600, df_annotate, how = \"inner\", left_on = \"URL\", right_on = \"id\", suffixes = [None, \"f2\"])\n",
    "df600 = pd.merge(df600, df_mis, how = \"inner\", left_on = \"URL\", right_on = \"video_id\", suffixes = [None, \"f2\"])"
   ]
  },
  {
   "cell_type": "code",
   "execution_count": 5,
   "id": "75c496b6",
   "metadata": {},
   "outputs": [
    {
     "data": {
      "text/html": [
       "<div>\n",
       "<style scoped>\n",
       "    .dataframe tbody tr th:only-of-type {\n",
       "        vertical-align: middle;\n",
       "    }\n",
       "\n",
       "    .dataframe tbody tr th {\n",
       "        vertical-align: top;\n",
       "    }\n",
       "\n",
       "    .dataframe thead th {\n",
       "        text-align: right;\n",
       "    }\n",
       "</style>\n",
       "<table border=\"1\" class=\"dataframe\">\n",
       "  <thead>\n",
       "    <tr style=\"text-align: right;\">\n",
       "      <th></th>\n",
       "      <th>URL</th>\n",
       "      <th>Duration</th>\n",
       "      <th>info</th>\n",
       "      <th>action</th>\n",
       "      <th>understand</th>\n",
       "      <th>ARI</th>\n",
       "      <th>FleshReadingEase</th>\n",
       "      <th>Kincaid</th>\n",
       "      <th>active_verb</th>\n",
       "      <th>has_description</th>\n",
       "      <th>...</th>\n",
       "      <th>Kincaidf2</th>\n",
       "      <th>Flesch</th>\n",
       "      <th>transition_wordsf2</th>\n",
       "      <th>summary_wordsf2</th>\n",
       "      <th>active_verbf2</th>\n",
       "      <th>url</th>\n",
       "      <th>title_y</th>\n",
       "      <th>misinformation</th>\n",
       "      <th>comment_y</th>\n",
       "      <th>video_id</th>\n",
       "    </tr>\n",
       "  </thead>\n",
       "  <tbody>\n",
       "    <tr>\n",
       "      <th>0</th>\n",
       "      <td>-32U9eU1hdM</td>\n",
       "      <td>310</td>\n",
       "      <td>1.00</td>\n",
       "      <td>0</td>\n",
       "      <td>1</td>\n",
       "      <td>14.52</td>\n",
       "      <td>28.51</td>\n",
       "      <td>13.75</td>\n",
       "      <td>59.00</td>\n",
       "      <td>1.00</td>\n",
       "      <td>...</td>\n",
       "      <td>16.22</td>\n",
       "      <td>22.30</td>\n",
       "      <td>14</td>\n",
       "      <td>0</td>\n",
       "      <td>81</td>\n",
       "      <td>https://www.youtube.com/watch?v=-32U9eU1hdM</td>\n",
       "      <td>Hyperkalemia: Causes; Effects on the Heart; Pa...</td>\n",
       "      <td>1</td>\n",
       "      <td>Scientific video.  No reference to diabetes.</td>\n",
       "      <td>-32U9eU1hdM</td>\n",
       "    </tr>\n",
       "    <tr>\n",
       "      <th>1</th>\n",
       "      <td>-Aj5BTnz-v0</td>\n",
       "      <td>559</td>\n",
       "      <td>1.00</td>\n",
       "      <td>1</td>\n",
       "      <td>1</td>\n",
       "      <td>15.78</td>\n",
       "      <td>25.99</td>\n",
       "      <td>13.21</td>\n",
       "      <td>23.00</td>\n",
       "      <td>1.00</td>\n",
       "      <td>...</td>\n",
       "      <td>7.70</td>\n",
       "      <td>81.82</td>\n",
       "      <td>17</td>\n",
       "      <td>0</td>\n",
       "      <td>309</td>\n",
       "      <td>https://www.youtube.com/watch?v=-Aj5BTnz-v0</td>\n",
       "      <td>Molecular structure of glucose | Macromolecule...</td>\n",
       "      <td>1</td>\n",
       "      <td>Scientific video</td>\n",
       "      <td>-Aj5BTnz-v0</td>\n",
       "    </tr>\n",
       "    <tr>\n",
       "      <th>2</th>\n",
       "      <td>-IaysvX1L8U</td>\n",
       "      <td>246</td>\n",
       "      <td>1.00</td>\n",
       "      <td>0</td>\n",
       "      <td>1</td>\n",
       "      <td>12.51</td>\n",
       "      <td>45.13</td>\n",
       "      <td>11.97</td>\n",
       "      <td>16.00</td>\n",
       "      <td>1.00</td>\n",
       "      <td>...</td>\n",
       "      <td>13.02</td>\n",
       "      <td>42.78</td>\n",
       "      <td>11</td>\n",
       "      <td>0</td>\n",
       "      <td>104</td>\n",
       "      <td>https://www.youtube.com/watch?v=-IaysvX1L8U</td>\n",
       "      <td>Medical School - Diagnosing Diabetes</td>\n",
       "      <td>0</td>\n",
       "      <td>NaN</td>\n",
       "      <td>-IaysvX1L8U</td>\n",
       "    </tr>\n",
       "    <tr>\n",
       "      <th>3</th>\n",
       "      <td>-J8UflGeY48</td>\n",
       "      <td>103</td>\n",
       "      <td>1.00</td>\n",
       "      <td>0</td>\n",
       "      <td>1</td>\n",
       "      <td>11.71</td>\n",
       "      <td>54.69</td>\n",
       "      <td>9.79</td>\n",
       "      <td>37.00</td>\n",
       "      <td>1.00</td>\n",
       "      <td>...</td>\n",
       "      <td>11.34</td>\n",
       "      <td>55.40</td>\n",
       "      <td>6</td>\n",
       "      <td>1</td>\n",
       "      <td>40</td>\n",
       "      <td>https://www.youtube.com/watch?v=-J8UflGeY48</td>\n",
       "      <td>What Is Pancreatitis? | Stomach Problems</td>\n",
       "      <td>1</td>\n",
       "      <td>No reference to diabetes</td>\n",
       "      <td>-J8UflGeY48</td>\n",
       "    </tr>\n",
       "    <tr>\n",
       "      <th>4</th>\n",
       "      <td>-eg-MHdoJ_Q</td>\n",
       "      <td>188</td>\n",
       "      <td>1.00</td>\n",
       "      <td>1</td>\n",
       "      <td>1</td>\n",
       "      <td>16.83</td>\n",
       "      <td>44.02</td>\n",
       "      <td>14.92</td>\n",
       "      <td>14.00</td>\n",
       "      <td>1.00</td>\n",
       "      <td>...</td>\n",
       "      <td>36.54</td>\n",
       "      <td>-8.84</td>\n",
       "      <td>9</td>\n",
       "      <td>0</td>\n",
       "      <td>44</td>\n",
       "      <td>https://www.youtube.com/watch?v=-eg-MHdoJ_Q</td>\n",
       "      <td>Detection of Sugar in Urine - MeitY OLabs</td>\n",
       "      <td>1</td>\n",
       "      <td>Scientific video - how to do urine tests</td>\n",
       "      <td>-eg-MHdoJ_Q</td>\n",
       "    </tr>\n",
       "    <tr>\n",
       "      <th>...</th>\n",
       "      <td>...</td>\n",
       "      <td>...</td>\n",
       "      <td>...</td>\n",
       "      <td>...</td>\n",
       "      <td>...</td>\n",
       "      <td>...</td>\n",
       "      <td>...</td>\n",
       "      <td>...</td>\n",
       "      <td>...</td>\n",
       "      <td>...</td>\n",
       "      <td>...</td>\n",
       "      <td>...</td>\n",
       "      <td>...</td>\n",
       "      <td>...</td>\n",
       "      <td>...</td>\n",
       "      <td>...</td>\n",
       "      <td>...</td>\n",
       "      <td>...</td>\n",
       "      <td>...</td>\n",
       "      <td>...</td>\n",
       "      <td>...</td>\n",
       "    </tr>\n",
       "    <tr>\n",
       "      <th>422</th>\n",
       "      <td>z0Pt-x8eKkM</td>\n",
       "      <td>492</td>\n",
       "      <td>1.00</td>\n",
       "      <td>1</td>\n",
       "      <td>1</td>\n",
       "      <td>9.62</td>\n",
       "      <td>52.45</td>\n",
       "      <td>9.82</td>\n",
       "      <td>77.00</td>\n",
       "      <td>1.00</td>\n",
       "      <td>...</td>\n",
       "      <td>12.87</td>\n",
       "      <td>45.67</td>\n",
       "      <td>12</td>\n",
       "      <td>0</td>\n",
       "      <td>105</td>\n",
       "      <td>https://www.youtube.com/watch?v=z0Pt-x8eKkM</td>\n",
       "      <td>Diabetes  Types of Insulin - PostCare Recovery...</td>\n",
       "      <td>0</td>\n",
       "      <td>NaN</td>\n",
       "      <td>z0Pt-x8eKkM</td>\n",
       "    </tr>\n",
       "    <tr>\n",
       "      <th>423</th>\n",
       "      <td>zD9aXZY0pdY</td>\n",
       "      <td>368</td>\n",
       "      <td>1.00</td>\n",
       "      <td>1</td>\n",
       "      <td>1</td>\n",
       "      <td>10.85</td>\n",
       "      <td>69.92</td>\n",
       "      <td>7.61</td>\n",
       "      <td>30.00</td>\n",
       "      <td>1.00</td>\n",
       "      <td>...</td>\n",
       "      <td>9.25</td>\n",
       "      <td>58.72</td>\n",
       "      <td>20</td>\n",
       "      <td>0</td>\n",
       "      <td>145</td>\n",
       "      <td>https://www.youtube.com/watch?v=zD9aXZY0pdY</td>\n",
       "      <td>Angina pectoris (stable; unstable; prinzmetal;...</td>\n",
       "      <td>1</td>\n",
       "      <td>No reference to diabetes</td>\n",
       "      <td>zD9aXZY0pdY</td>\n",
       "    </tr>\n",
       "    <tr>\n",
       "      <th>424</th>\n",
       "      <td>zLbAxztnnfE</td>\n",
       "      <td>163</td>\n",
       "      <td>0.00</td>\n",
       "      <td>0</td>\n",
       "      <td>0</td>\n",
       "      <td>19.30</td>\n",
       "      <td>19.81</td>\n",
       "      <td>16.74</td>\n",
       "      <td>77.00</td>\n",
       "      <td>1.00</td>\n",
       "      <td>...</td>\n",
       "      <td>10.16</td>\n",
       "      <td>48.09</td>\n",
       "      <td>8</td>\n",
       "      <td>0</td>\n",
       "      <td>39</td>\n",
       "      <td>https://www.youtube.com/watch?v=zLbAxztnnfE</td>\n",
       "      <td>Low Thyroid Function and Diabetes</td>\n",
       "      <td>1</td>\n",
       "      <td>Video not available</td>\n",
       "      <td>zLbAxztnnfE</td>\n",
       "    </tr>\n",
       "    <tr>\n",
       "      <th>425</th>\n",
       "      <td>z_3S2_41_FE</td>\n",
       "      <td>300</td>\n",
       "      <td>1.00</td>\n",
       "      <td>0</td>\n",
       "      <td>1</td>\n",
       "      <td>9.27</td>\n",
       "      <td>75.98</td>\n",
       "      <td>7.75</td>\n",
       "      <td>32.00</td>\n",
       "      <td>1.00</td>\n",
       "      <td>...</td>\n",
       "      <td>4.72</td>\n",
       "      <td>84.19</td>\n",
       "      <td>13</td>\n",
       "      <td>0</td>\n",
       "      <td>124</td>\n",
       "      <td>https://www.youtube.com/watch?v=z_3S2_41_FE</td>\n",
       "      <td>What BMI doesn't tell you about your health</td>\n",
       "      <td>1</td>\n",
       "      <td>No reference to diabetes</td>\n",
       "      <td>z_3S2_41_FE</td>\n",
       "    </tr>\n",
       "    <tr>\n",
       "      <th>426</th>\n",
       "      <td>zsVRO4IZoFw</td>\n",
       "      <td>171</td>\n",
       "      <td>0.00</td>\n",
       "      <td>1</td>\n",
       "      <td>1</td>\n",
       "      <td>20.22</td>\n",
       "      <td>29.53</td>\n",
       "      <td>17.97</td>\n",
       "      <td>119.00</td>\n",
       "      <td>1.00</td>\n",
       "      <td>...</td>\n",
       "      <td>4.76</td>\n",
       "      <td>75.50</td>\n",
       "      <td>3</td>\n",
       "      <td>0</td>\n",
       "      <td>43</td>\n",
       "      <td>https://www.youtube.com/watch?v=zsVRO4IZoFw</td>\n",
       "      <td>NO MEDICINE NECESSARY FOR DIABETES - Cure Diab...</td>\n",
       "      <td>1</td>\n",
       "      <td>Video not available</td>\n",
       "      <td>zsVRO4IZoFw</td>\n",
       "    </tr>\n",
       "  </tbody>\n",
       "</table>\n",
       "<p>427 rows × 79 columns</p>\n",
       "</div>"
      ],
      "text/plain": [
       "             URL  Duration                 info  action  understand  \\\n",
       "0    -32U9eU1hdM       310                 1.00       0           1   \n",
       "1    -Aj5BTnz-v0       559                 1.00       1           1   \n",
       "2    -IaysvX1L8U       246                 1.00       0           1   \n",
       "3    -J8UflGeY48       103                 1.00       0           1   \n",
       "4    -eg-MHdoJ_Q       188                 1.00       1           1   \n",
       "..           ...       ...                  ...     ...         ...   \n",
       "422  z0Pt-x8eKkM       492                 1.00       1           1   \n",
       "423  zD9aXZY0pdY       368                 1.00       1           1   \n",
       "424  zLbAxztnnfE       163                 0.00       0           0   \n",
       "425  z_3S2_41_FE       300                 1.00       0           1   \n",
       "426  zsVRO4IZoFw       171                 0.00       1           1   \n",
       "\n",
       "                     ARI     FleshReadingEase              Kincaid  \\\n",
       "0                  14.52                28.51                13.75   \n",
       "1                  15.78                25.99                13.21   \n",
       "2                  12.51                45.13                11.97   \n",
       "3                  11.71                54.69                 9.79   \n",
       "4                  16.83                44.02                14.92   \n",
       "..                   ...                  ...                  ...   \n",
       "422                 9.62                52.45                 9.82   \n",
       "423                10.85                69.92                 7.61   \n",
       "424                19.30                19.81                16.74   \n",
       "425                 9.27                75.98                 7.75   \n",
       "426                20.22                29.53                17.97   \n",
       "\n",
       "             active_verb      has_description  ...            Kincaidf2  \\\n",
       "0                  59.00                 1.00  ...                16.22   \n",
       "1                  23.00                 1.00  ...                 7.70   \n",
       "2                  16.00                 1.00  ...                13.02   \n",
       "3                  37.00                 1.00  ...                11.34   \n",
       "4                  14.00                 1.00  ...                36.54   \n",
       "..                   ...                  ...  ...                  ...   \n",
       "422                77.00                 1.00  ...                12.87   \n",
       "423                30.00                 1.00  ...                 9.25   \n",
       "424                77.00                 1.00  ...                10.16   \n",
       "425                32.00                 1.00  ...                 4.72   \n",
       "426               119.00                 1.00  ...                 4.76   \n",
       "\n",
       "                  Flesch  transition_wordsf2  summary_wordsf2  active_verbf2  \\\n",
       "0                  22.30                  14                0             81   \n",
       "1                  81.82                  17                0            309   \n",
       "2                  42.78                  11                0            104   \n",
       "3                  55.40                   6                1             40   \n",
       "4                  -8.84                   9                0             44   \n",
       "..                   ...                 ...              ...            ...   \n",
       "422                45.67                  12                0            105   \n",
       "423                58.72                  20                0            145   \n",
       "424                48.09                   8                0             39   \n",
       "425                84.19                  13                0            124   \n",
       "426                75.50                   3                0             43   \n",
       "\n",
       "                                             url  \\\n",
       "0    https://www.youtube.com/watch?v=-32U9eU1hdM   \n",
       "1    https://www.youtube.com/watch?v=-Aj5BTnz-v0   \n",
       "2    https://www.youtube.com/watch?v=-IaysvX1L8U   \n",
       "3    https://www.youtube.com/watch?v=-J8UflGeY48   \n",
       "4    https://www.youtube.com/watch?v=-eg-MHdoJ_Q   \n",
       "..                                           ...   \n",
       "422  https://www.youtube.com/watch?v=z0Pt-x8eKkM   \n",
       "423  https://www.youtube.com/watch?v=zD9aXZY0pdY   \n",
       "424  https://www.youtube.com/watch?v=zLbAxztnnfE   \n",
       "425  https://www.youtube.com/watch?v=z_3S2_41_FE   \n",
       "426  https://www.youtube.com/watch?v=zsVRO4IZoFw   \n",
       "\n",
       "                                               title_y misinformation  \\\n",
       "0    Hyperkalemia: Causes; Effects on the Heart; Pa...              1   \n",
       "1    Molecular structure of glucose | Macromolecule...              1   \n",
       "2                 Medical School - Diagnosing Diabetes              0   \n",
       "3             What Is Pancreatitis? | Stomach Problems              1   \n",
       "4            Detection of Sugar in Urine - MeitY OLabs              1   \n",
       "..                                                 ...            ...   \n",
       "422  Diabetes  Types of Insulin - PostCare Recovery...              0   \n",
       "423  Angina pectoris (stable; unstable; prinzmetal;...              1   \n",
       "424                  Low Thyroid Function and Diabetes              1   \n",
       "425        What BMI doesn't tell you about your health              1   \n",
       "426  NO MEDICINE NECESSARY FOR DIABETES - Cure Diab...              1   \n",
       "\n",
       "                                        comment_y     video_id  \n",
       "0    Scientific video.  No reference to diabetes.  -32U9eU1hdM  \n",
       "1                                Scientific video  -Aj5BTnz-v0  \n",
       "2                                             NaN  -IaysvX1L8U  \n",
       "3                       No reference to diabetes   -J8UflGeY48  \n",
       "4        Scientific video - how to do urine tests  -eg-MHdoJ_Q  \n",
       "..                                            ...          ...  \n",
       "422                                           NaN  z0Pt-x8eKkM  \n",
       "423                     No reference to diabetes   zD9aXZY0pdY  \n",
       "424                          Video not available   zLbAxztnnfE  \n",
       "425                     No reference to diabetes   z_3S2_41_FE  \n",
       "426                          Video not available   zsVRO4IZoFw  \n",
       "\n",
       "[427 rows x 79 columns]"
      ]
     },
     "execution_count": 5,
     "metadata": {},
     "output_type": "execute_result"
    }
   ],
   "source": [
    "df600.head()"
   ]
  },
  {
   "cell_type": "code",
   "execution_count": 7,
   "id": "5bc7aba6",
   "metadata": {},
   "outputs": [],
   "source": [
    "# Merge videos that appear multiple times under different keywords. \n",
    "groupby_column = 'video_id'\n",
    "aggregate_column = 'keyword'\n",
    "agg_df = df.groupby(groupby_column).aggregate({aggregate_column: list})\n",
    "df_alias = df.drop(columns=aggregate_column).set_index(groupby_column)\n",
    "agg_df = agg_df.join(df_alias).reset_index(groupby_column).drop_duplicates(groupby_column).reset_index(drop=True)\n",
    "df = agg_df"
   ]
  },
  {
   "cell_type": "code",
   "execution_count": 8,
   "id": "aa0085b9",
   "metadata": {},
   "outputs": [],
   "source": [
    "dfcopy = df.copy()"
   ]
  },
  {
   "cell_type": "markdown",
   "id": "589fb67c",
   "metadata": {},
   "source": [
    "# PART 1: Descriptive Statistics\n",
    "\n",
    "First, I examined the features and classified them into three categories. \n",
    "1. Video metadata\n",
    "2. Video content\n",
    "3. Usage statistics\n",
    "\n",
    "The key insight is that there is little difference in feature values between two classes of videos. \n",
    "\n",
    "**NOTE: See merge_and_cleaned for a description on the PEMAT labels. This is a descriptive statistics on the entire dataset.\n",
    "\n",
    "## Useful reference\n",
    "1. ARI: https://en.wikipedia.org/wiki/Automated_readability_index\n",
    "2. Flesch reading ease:\n",
    "3. Kincaid (formally titled: Flesch-Kincaid readability). https://readable.com/readability/flesch-reading-ease-flesch-kincaid-grade-level/\n",
    "4. Cosine similarity: https://www.machinelearningplus.com/nlp/cosine-similarity/\n",
    "5. My code on helper_fn.py\n",
    "\n",
    "## Appropriate ranges\n",
    "1. ARI: 1-14\n",
    "2. Kincaid: 0-19; \n",
    "3. Flesch: 0-100.\n",
    "4. cosine similarity -1 to 1; "
   ]
  },
  {
   "cell_type": "code",
   "execution_count": 9,
   "id": "56eeefd4",
   "metadata": {},
   "outputs": [],
   "source": [
    "# Checking the summary statistics for each of these features. \n",
    "fare = [\"min\", \"max\", \"median\", \"mean\", \"std\"]\n",
    "temp = {}\n",
    "\n",
    "# Labels\n",
    "label = [\"understand\",\"action\", \"info\", \"misinfo\"]\n",
    "\n",
    "# I categorize features into different groups. X_d denotes derivatives of X. \n",
    "readable = ['ARI', 'FleshReadingEase','Kincaid']\n",
    "description_d = [\"word_unique\", \"transition_words\",\"summary_words\",\"active_verb\", \"word_count\", \"sentence_count\"]\n",
    "keyword = ['keyword_title_cosine', 'keyword_decription_cosine']\n",
    "channel = ['channelSubscriberCount', \"channelViewCount\", \"channelCommentCount\", \"channelVideoCount\"] # TODO: Log\n",
    "duration = [\"video_duration\"] # Is already an integer\n",
    "license = [\"contentLicensed\"]\n",
    "\n",
    "# Miscellaneous\n",
    "rank = [\"rank\"]\n",
    "content = [\"contentDefinition\", \"contentLicensed\"]\n",
    "\n",
    "# Usage statistics (outcome metrics)\n",
    "like_dislike_view = [\"likeCount\", \"dislikeCount\", \"viewCount\"] # TODO: Log-transform\n",
    "comment_cosine = ['comment_title_cosine', 'comment_description_cosine']\n",
    "comment_d = ['commentCount','postive_comment_count','negative_comment_count','neutral_comment_count', \n",
    "           \"comment_unique_words\", \"comment_total_words\"]\n",
    "\n",
    "# Group all variables in the dataframe: cateogrical or numerical \n",
    "dependent = label\n",
    "numeric = readable + description_d + keyword + channel + duration + like_dislike_view + comment_cosine + comment_d\n",
    "categoric = license + content\n",
    "misc = rank"
   ]
  },
  {
   "cell_type": "code",
   "execution_count": 10,
   "id": "8ac23ad7",
   "metadata": {},
   "outputs": [],
   "source": [
    "title = df600[\"channelTitle\"].value_counts()"
   ]
  },
  {
   "cell_type": "code",
   "execution_count": 13,
   "id": "e775d0d6",
   "metadata": {},
   "outputs": [
    {
     "name": "stderr",
     "output_type": "stream",
     "text": [
      "/Library/Frameworks/Python.framework/Versions/3.10/lib/python3.10/site-packages/pandas/core/arraylike.py:397: RuntimeWarning: invalid value encountered in log10\n",
      "  result = getattr(ufunc, method)(*inputs, **kwargs)\n"
     ]
    },
    {
     "data": {
      "image/png": "[encoded data removed]",
      "text/plain": [
       "<Figure size 1080x720 with 3 Axes>"
      ]
     },
     "metadata": {
      "needs_background": "light"
     },
     "output_type": "display_data"
    }
   ],
   "source": [
    "fig = boxplotVisualizer(df600, \"misinformation\", feature_lst = , title = \"readable\", log_transform = True)"
   ]
  },
  {
   "cell_type": "code",
   "execution_count": null,
   "id": "78c190f3",
   "metadata": {},
   "outputs": [],
   "source": [
    "# Summary statistics to contrast feature values between videos of Label 1 and Label 0 (dependent)\n",
    "dependent = \"action\"\n",
    "to_save600 = comparisonTable(df600, dependent, numeric).T\n",
    "to_save600.to_csv(\"%s_summary.csv\" %(dependent))\n",
    "to_save8900 = summaryStatistics(df, numeric, fare = [\"min\", \"max\", \"median\", \"mean\", \"std\"]).T\n",
    "to_save8900.to_csv(\"all_summary.csv\")"
   ]
  },
  {
   "cell_type": "code",
   "execution_count": 29,
   "id": "8be858be",
   "metadata": {},
   "outputs": [
    {
     "name": "stderr",
     "output_type": "stream",
     "text": [
      "/var/folders/4t/6j0632nj7bv5d1dkqdjmp3000000gn/T/ipykernel_28324/3577700325.py:12: DeprecationWarning: `np.bool` is a deprecated alias for the builtin `bool`. To silence this warning, use `bool` by itself. Doing this will not modify any behavior and is safe. If you specifically wanted the numpy scalar type, use `np.bool_` here.\n",
      "Deprecated in NumPy 1.20; for more details and guidance: https://numpy.org/devdocs/release/1.20.0-notes.html#deprecations\n",
      "  mask = np.zeros_like(corr, dtype=np.bool)\n"
     ]
    },
    {
     "data": {
      "image/png": "[encoded data removed]",
      "text/plain": [
       "<Figure size 864x576 with 2 Axes>"
      ]
     },
     "metadata": {
      "needs_background": "light"
     },
     "output_type": "display_data"
    }
   ],
   "source": [
    "# This visualiz\n",
    "label = [\"understand\", \"action\", \"info\", \"misinformation\"]\n",
    "var_lst = [\"readable\", \"description_d\", \"keyword\", \"channel\", \"duration\", \"like_dislike_view\"]\n",
    "var_lst += [\"comment_cosine\", \"comment_d\"]\n",
    "var = var_lst[5]\n",
    "title = \"label_%s\" %(var) + \".png\"\n",
    "\n",
    "# Plotting heatmap for correlation between two variables and labels\n",
    "cmap = sns.diverging_palette(20, 250, as_cmap=True)\n",
    "fig, ax = plt.subplots(figsize = (12,8))\n",
    "corr = df600[label + like_dislike_view].corr()\n",
    "mask = np.zeros_like(corr, dtype=np.bool)\n",
    "mask[np.triu_indices_from(mask)] = True\n",
    "\n",
    "# Building dataframe\n",
    "ax = sns.heatmap(corr, cmap = cmap, mask=mask, vmin = -1, vmax = 1)\n",
    "ax.set_title(\"Correlation between labels and %s.\" %(var))\n",
    "fig.savefig(\"Correlation between labels and like_dislike_view\")"
   ]
  },
  {
   "cell_type": "code",
   "execution_count": null,
   "id": "87c3174b",
   "metadata": {},
   "outputs": [],
   "source": [
    "# TODO: Like-dislike/viewCount ratio. \n",
    "dep_lst = [\"understand\", \"action\", \"info\"]\n",
    "dependent = dep_lst[0]\n",
    "\n",
    "feature_name = \"channel\"\n",
    "title = \"duration\"\n",
    "fig = boxplotVisualizer(df600, dependent, channel, title = title,\n",
    "                        log_transform = True)\n",
    "title = \"boxplot_%s_%s\" %(dependent,feature_name)\n",
    "fig.savefig(title)"
   ]
  },
  {
   "cell_type": "code",
   "execution_count": null,
   "id": "7a1c2fd8",
   "metadata": {},
   "outputs": [],
   "source": [
    "# Perform histogram of the dataset.\n",
    "var = \"channelVideoCount\"\n",
    "entire = True\n",
    "\n",
    "if entire == True:\n",
    "    x = df[var]\n",
    "    name = \"entire dataset\"\n",
    "else:\n",
    "    x = df600[var]\n",
    "    name = \"labelled dataset\"\n",
    "bins = [2**i for i in range(7)]\n",
    "fig = plt.hist(x, density = False, facecolor='b', alpha=0.75)\n",
    "plt.xlabel('%s' %(var))\n",
    "plt.ylabel('Number of videos')\n",
    "plt.title('%s distribution on %s' %(var,name))\n",
    "plt.grid(True)"
   ]
  },
  {
   "cell_type": "code",
   "execution_count": null,
   "id": "a95c7d6a",
   "metadata": {},
   "outputs": [],
   "source": [
    "# Check if columns of df600 and df are the same.\n",
    "# Only difference: video_duration, understand, action, URL, which all appear in other forms already.\n",
    "for col in df600.columns.tolist():\n",
    "    if col not in df.columns.tolist():\n",
    "        print(col)"
   ]
  },
  {
   "cell_type": "markdown",
   "id": "1a91641c",
   "metadata": {},
   "source": [
    "# PART 2: Building models\n",
    "\n",
    "After the EDA, I tested the performance of vanilla classifiers — SVM, logistic regression, and randomForest — on their abilities to distinguish between understandable and not understandable, information and no information, accurate or misinformation, etc. The key result is that most models would maximize accuracy by simply predicting the majority. We want the algorithm to have balanced precision-recall-F1 score because our question of interest is to identify misinformation vs non-misinformation. \n",
    "\n",
    "TODO: Think about how to re-balance between classes. "
   ]
  },
  {
   "cell_type": "code",
   "execution_count": 39,
   "id": "6f021f30",
   "metadata": {},
   "outputs": [],
   "source": [
    "def testClassifier(X, y, model_name, parameters = [], test_prop = 0.2):\n",
    "    \"\"\"\n",
    "    @param X > X_train, X_calib, X_test\n",
    "    @param y > y_train, y_calib, y_test\n",
    "    @param model: String of the name of models we want to test\n",
    "    Usage: This function is used to test the performance of a given classifier on confusion matrix,\n",
    "    precision, recall, f-score, etc. We allow fine-tuning to happen within this function using gridSearchCV.\n",
    "    Return: None\n",
    "    NOTE: We do not allow make_pipeline(StandardScaler(), classifier) for now.\n",
    "    \"\"\"\n",
    "    # Set random_state = 1 to compare between models.\n",
    "    X_train, X_test, y_train, y_test = train_test_split(X, y, test_size = test_prop, random_state = 1)\n",
    "\n",
    "    # Create and cross-validate the models over parameter space.\n",
    "    # The cross-validated dataset is X_train, y_train.\n",
    "    print(\"Below are the results of %s\" %(model_name))\n",
    "    weights = {0:3, 1:1}\n",
    "    if model_name == \"Logistic\":\n",
    "        model = LogisticRegression(solver = \"lbfgs\", penalty = \"l2\",class_weight=weights)\n",
    "    elif model_name == \"SVM\":\n",
    "        model = GridSearchCV(SVC(probability = True, class_weight = weights),parameters)\n",
    "    elif model_name == \"RandomForest\":\n",
    "        model = GridSearchCV(RandomForestClassifier(class_weight = weights), parameters)\n",
    "\n",
    "    # Start predicting on test set using best model on X_test, y_test.\n",
    "    model.fit(X_train, y_train)\n",
    "    try:\n",
    "        best = model.best_estimator_\n",
    "    except:\n",
    "        best = model\n",
    "    yhat = best.predict(X_test)\n",
    "\n",
    "    print(\"Displaying prediction\")\n",
    "    # Display prediction result as follows: confusion matrix, accuracy, precision, recall, fscore\n",
    "    prediction = list(map(round, yhat))\n",
    "\n",
    "    ## Confusion matrix\n",
    "    cm = confusion_matrix(y_test, prediction)\n",
    "    tn, fp, fn, tp = cm.ravel() # Read from top left > bottom right\n",
    "    print (\"Confusion Matrix : \\n\", cm)\n",
    "\n",
    "    ## Accuracy, precision, etc.\n",
    "    print('Accuracy =  %.2f' %(accuracy_score(y_test, prediction)))\n",
    "    precision, recall, fscore, support = precision_recall_fscore_support(y_test, prediction, pos_label = 1,\n",
    "                                                                         average = \"binary\")\n",
    "    print(\"Precision = %.2f\\n Recall = %.2f\\n F-score = %.2f\" %(precision, recall, fscore))\n",
    "\n",
    "    return X_test, y_test, best"
   ]
  },
  {
   "cell_type": "code",
   "execution_count": 40,
   "id": "d62178e1",
   "metadata": {},
   "outputs": [],
   "source": [
    "# Define all variables Xiao used\n",
    "df600[\"has_title\"] = [int(has_title) for has_title in df600[\"title\"].isna()]\n",
    "df600[\"has_description\"] = [int(has_description) for has_description in df600[\"description\"].isna()]"
   ]
  },
  {
   "cell_type": "code",
   "execution_count": 41,
   "id": "b5cbc3c6",
   "metadata": {},
   "outputs": [],
   "source": [
    "# Model 1: Use every numerical variable\n",
    "# TODO: Lack transcript medical term and description medical term\n",
    "# keyword_description_cosine; keyword_title_cosine; video_duration; ARI \n",
    "pl = [\"has_description\", \"ARI\", \"video_duration\", \"keyword_title_cosine\"]\n",
    "xiaof1 = [\"has_description\", \"has_title\", \"ARI\", \"active_verb\",\"summary_words\"]\n",
    "xiaof1 += [\"transition_words\",\"video_duration\",\"word_count\",\"sentence_count\",\"word_unique\"]\n",
    "xiaof2 = [\"text_confidence\",\"ARIf2\",\"active_verbf2\",\"summary_wordsf2\",\"transition_wordsf2\",\"speech_confidence\"]\n",
    "xiaof2 += [\"scene_count\",\"object_count\",\"word_uniquef2\",\"sentence_countf2\"]\n",
    "X = df600[xiaof1+xiaof2]\n",
    "y = df600[\"understand\"]\n",
    "\n",
    "# Set random_state = 1 to compare between models. \n",
    "X_train, X_test, y_train, y_test = train_test_split(X, y, test_size = 0.2, random_state = 1)\n",
    "X_train, X_calib, y_train, y_calib = train_test_split(X_train, y_train, test_size = 0.12, random_state = 1)"
   ]
  },
  {
   "cell_type": "code",
   "execution_count": 42,
   "id": "ba903f91",
   "metadata": {},
   "outputs": [
    {
     "name": "stdout",
     "output_type": "stream",
     "text": [
      "Row with no info and no sentence_count successfully dropped\n",
      "Columns already dropped\n"
     ]
    }
   ],
   "source": [
    "# Drop the indices with no_info. \n",
    "# Why: I have checked the data. These rows contains many NaN.\n",
    "no_info = np.where(df600[\"info\"].isna() == True)[0].tolist()\n",
    "no_info += np.where(df600[\"viewCount\"].isna() == True)[0].tolist()\n",
    "no_count = np.where(np.isfinite(df600[\"sentence_count\"]) == False)[0].tolist()\n",
    "try:\n",
    "    df600 = df600.drop(index = no_info+no_count)\n",
    "    print(\"Row with no info and no sentence_count successfully dropped\")\n",
    "    df600 = df600.drop(columns = [\"Unnamed: 0\"])\n",
    "    print(\"Dropping unnamed column.\")\n",
    "except:\n",
    "    print(\"Columns already dropped\")"
   ]
  },
  {
   "cell_type": "code",
   "execution_count": 44,
   "id": "37c78e26",
   "metadata": {},
   "outputs": [],
   "source": [
    "# Truncate ARI to be from 0-14\n",
    "ub = 14\n",
    "lb = 0\n",
    "df600 = truncateColumn(df600, lb, ub, \"ARI\")"
   ]
  },
  {
   "cell_type": "code",
   "execution_count": 45,
   "id": "4d88aa28",
   "metadata": {},
   "outputs": [
    {
     "name": "stdout",
     "output_type": "stream",
     "text": [
      "Below are the results of Logistic\n",
      "Displaying prediction\n",
      "Confusion Matrix : \n",
      " [[11  7]\n",
      " [31 37]]\n",
      "Accuracy =  0.56\n",
      "Precision = 0.84\n",
      " Recall = 0.54\n",
      " F-score = 0.66\n",
      "[[ 0.00387897  0.          0.00136153 -0.00774182 -0.00017009  0.02783391\n",
      "  -0.01132623  0.00186988  0.05087239 -0.00442283 -0.007219    0.02961606\n",
      "   0.004655    0.00712389  0.0483585   0.0084372   0.01357345 -0.00010198\n",
      "   0.00088902  0.02521974]]\n",
      "The AUC value for Logistic is 0.652778\n"
     ]
    },
    {
     "name": "stderr",
     "output_type": "stream",
     "text": [
      "/Library/Frameworks/Python.framework/Versions/3.10/lib/python3.10/site-packages/sklearn/linear_model/_logistic.py:814: ConvergenceWarning: lbfgs failed to converge (status=1):\n",
      "STOP: TOTAL NO. of ITERATIONS REACHED LIMIT.\n",
      "\n",
      "Increase the number of iterations (max_iter) or scale the data as shown in:\n",
      "    https://scikit-learn.org/stable/modules/preprocessing.html\n",
      "Please also refer to the documentation for alternative solver options:\n",
      "    https://scikit-learn.org/stable/modules/linear_model.html#logistic-regression\n",
      "  n_iter_i = _check_optimize_result(\n"
     ]
    },
    {
     "data": {
      "image/png": "[encoded data removed]",
      "text/plain": [
       "<Figure size 648x432 with 1 Axes>"
      ]
     },
     "metadata": {
      "needs_background": "light"
     },
     "output_type": "display_data"
    }
   ],
   "source": [
    "# Testing for logistic regression\n",
    "model_name = \"Logistic\"\n",
    "X_test, y_test, model = testClassifier(X, y, model_name)\n",
    "print(model.coef_)\n",
    "createROC(X_test, y_test, model, model_name)"
   ]
  },
  {
   "cell_type": "code",
   "execution_count": 46,
   "id": "e812fdc4",
   "metadata": {},
   "outputs": [
    {
     "name": "stdout",
     "output_type": "stream",
     "text": [
      "Below are the results of SVM\n",
      "Displaying prediction\n",
      "Confusion Matrix : \n",
      " [[10  8]\n",
      " [20 48]]\n",
      "Accuracy =  0.67\n",
      "Precision = 0.86\n",
      " Recall = 0.71\n",
      " F-score = 0.77\n",
      "The AUC value for SVM is 0.643791\n"
     ]
    },
    {
     "data": {
      "image/png": "[encoded data removed]",
      "text/plain": [
       "<Figure size 648x432 with 1 Axes>"
      ]
     },
     "metadata": {
      "needs_background": "light"
     },
     "output_type": "display_data"
    }
   ],
   "source": [
    "# Testing SVM\n",
    "model_name = \"SVM\"\n",
    "grid = {'kernel':['rbf'], 'C': np.arange(1,10,2)}\n",
    "X_test, y_test, model = testClassifier(X, y, model_name, parameters = grid)\n",
    "createROC(X_test, y_test, model, model_name)"
   ]
  },
  {
   "cell_type": "code",
   "execution_count": 47,
   "id": "b376f76b",
   "metadata": {},
   "outputs": [
    {
     "name": "stdout",
     "output_type": "stream",
     "text": [
      "Below are the results of RandomForest\n",
      "Displaying prediction\n",
      "Confusion Matrix : \n",
      " [[ 9  9]\n",
      " [ 9 59]]\n",
      "Accuracy =  0.79\n",
      "Precision = 0.87\n",
      " Recall = 0.87\n",
      " F-score = 0.87\n",
      "The AUC value for RandomForest is 0.694444\n"
     ]
    },
    {
     "data": {
      "image/png": "[encoded data removed]",
      "text/plain": [
       "<Figure size 648x432 with 1 Axes>"
      ]
     },
     "metadata": {
      "needs_background": "light"
     },
     "output_type": "display_data"
    }
   ],
   "source": [
    "# Testing Random Forest\n",
    "n_estimators = np.arange(10, 200, 20)\n",
    "max_depth = np.arange(1,5)\n",
    "grid = {'n_estimators':n_estimators, 'max_depth':max_depth}\n",
    "model_name = \"RandomForest\"\n",
    "X_test, y_test, model = testClassifier(X, y, model_name, parameters = grid)\n",
    "#print(model.coef_)\n",
    "createROC(X_test, y_test, model, model_name)"
   ]
  },
  {
   "cell_type": "markdown",
   "id": "0a76c235",
   "metadata": {},
   "source": [
    "# PART 3: ChannelLevel Analysis\n",
    "\n",
    "**NOTE: We have removed videos appearing twice under different keywords.**\n",
    "There are $8,963$ videos, appearing in $5,322$ channels. Interestingly, there are $3,304$ videos with more than $5,000$ views (from now, I call them relevant), appearing in $2,186$ channels. Hence, there are $3,000$ channels responsible for $5,600$ videos (i.e., these channels appear only 1.9 times among many keyword search related to diabetes). \n",
    "\n",
    "Findings:\n",
    "1. Top 1% channel (ranked by number of videos in this dataset) produces $1,276$ (14%) of the videos but only $10%$ of the views. Almost 60% of the videos are created only from 20% of the channels. See the cumulative plot.\n",
    "2. After top 20%, the remaining videos are created by one channel per one video, as suggested by the slope almost equal to 53/89 (1 video per 1 channel; 53 channel = 1% >> 53 video = 53/89%). \n",
    "3. The step-wise nature of the percentView, percentLike, etc. suggests clear outliers. \n",
    "My thoughts on viewCount analysis:\n",
    "\n",
    "1. It's suspicious that their videos appear only once or twice given that we use so many keywords related to diabetes. However, their title is sometimes relevant (yoga video // glyocosis vs glycogenesis ..), but the channelVideoCount looks very sketchy >> If they have many videos, but many of their videos are not related to diabetes, maybe they are not experts on diabetes. \n",
    "2. Classifying misinformation based on views is not a great idea. Many highly-viewed videos are misinformation. \n"
   ]
  },
  {
   "cell_type": "code",
   "execution_count": null,
   "id": "d45a32a6",
   "metadata": {},
   "outputs": [],
   "source": [
    "df[df[\"channelTitle\"] == \"botcaster inc. bot\"][[\"title\", \"viewCount\"]]"
   ]
  },
  {
   "cell_type": "code",
   "execution_count": null,
   "id": "0980408e",
   "metadata": {},
   "outputs": [],
   "source": [
    "# Identify videos with more views than 1% of the total views. \n",
    "var = \"viewCount\"\n",
    "thresh = sum(df[var])*0.01\n",
    "list3 = df[df[var] > thresh][[\"viewCount\",\"likeCount\",\"dislikeCount\", \"title\"]].index\n",
    "df[df[var] > thresh][[\"title\",'channelTitle', \"keyword\", \"viewCount\",\"rank\"]]"
   ]
  },
  {
   "cell_type": "code",
   "execution_count": null,
   "id": "cb93d06c",
   "metadata": {},
   "outputs": [],
   "source": [
    "# Checking outlier videos and their properties\n",
    "dominator = list3\n",
    "try:\n",
    "    df = df.drop(index = dominator)\n",
    "except:\n",
    "    print(\"Outliers already removed.\")\n",
    "    \n",
    "index = 87\n",
    "temp = df[df[\"channelTitle\"].isin([channel for channel in channel_toplst[index+1] \n",
    "                                           if channel not in channel_toplst[index]])]"
   ]
  },
  {
   "cell_type": "code",
   "execution_count": null,
   "id": "a2ecad84",
   "metadata": {},
   "outputs": [],
   "source": [
    "# Plot of cumulative values for like_dislike_view. \\n\",\n",
    "cumulative = []\n",
    "for var in like_dislike_view:\n",
    "    temp = [(sum(df[df[\"channelTitle\"].isin(channel_top)][var])/sum(df[var]))*100\n",
    "                      for channel_top in channel_toplst] # The Top X channels account for how many views\\n\",\n",
    "    cumulative.append(temp)\n",
    "percentLike = cumulative[0]\n",
    "percentDislike = cumulative[1]\n",
    "percentView = cumulative[2]\n",
    "\n",
    "# The Top X channels account for how many views\n",
    "percentVideo = [(df[df[\"channelTitle\"].isin(channel_top)].shape[0]/df.shape[0])*100\n",
    "                for channel_top in channel_toplst]"
   ]
  },
  {
   "cell_type": "code",
   "execution_count": null,
   "id": "65bbdac8",
   "metadata": {},
   "outputs": [],
   "source": [
    "# Figure 1: Cumulative plots of like-dislike-view suggest some outliers\n",
    "# NOTE: Polarizing? Keyword: Adult blindness. Title: THESE GLASSES CURED MY COLORBLINDNESS! by Logan Paul. \n",
    "fig, ax = plt.subplots(figsize=(12,8))\n",
    "ax.plot(np.arange(1,100,1), percentLike, label = \"Percent Like\", color = \"green\")\n",
    "ax.plot(np.arange(1,100,1), percentDislike, label = \"Percent Dislike\", color = \"red\")\n",
    "ax.plot(np.arange(1,100,1), percentView, label = \"Percent View\", color = \"black\")\n",
    "ax.plot(np.arange(1,100,1),np.arange(1,100,1), marker = \".\",label = \"Y=X\", color = \"gray\", alpha = 0.5)\n",
    "plt.title(\"Cumulative plots of like-dislike-view suggest some outliers.\")\n",
    "ax.set_xlabel('Percent of top channels')\n",
    "ax.set_ylabel('Cumulative percent')\n",
    "ax.legend()\n",
    "fig.savefig(\"cdf_preRemoved.png\")"
   ]
  },
  {
   "cell_type": "code",
   "execution_count": null,
   "id": "b1f816bc",
   "metadata": {},
   "outputs": [],
   "source": [
    "# Figure 2: The majority of videos are created from few channels\n",
    "fig, ax = plt.subplots(figsize=(12,8))\n",
    "ax.plot(np.arange(1,100,1), percentVideo, label = \"Percent Video\", color = \"blue\")\n",
    "ax.plot(np.arange(1,100,1),np.arange(1,100,1), marker = \".\",label = \"Y=X\", color = \"gray\", alpha = 0.5)\n",
    "plt.title(\"The majority of videos are created from few channels.\")\n",
    "ax.set_xlabel('Percent of top channels')\n",
    "ax.set_ylabel('Cumulative percent')\n",
    "ax.legend()\n",
    "fig.savefig(\"cdf_nvideo_preRemoved.png\")"
   ]
  },
  {
   "cell_type": "code",
   "execution_count": null,
   "id": "89ab33d3",
   "metadata": {},
   "outputs": [],
   "source": [
    "fig, ax = plt.subplots(figsize=(12,8))\n",
    "ax.plot(np.arange(1,100,1), percentLike, label = \"Percent Like\", color = \"green\")\n",
    "ax.plot(np.arange(1,100,1), percentDislike, label = \"Percent Dislike\", color = \"red\")\n",
    "ax.plot(np.arange(1,100,1), percentView, label = \"Percent View\", color = \"black\")\n",
    "ax.plot(np.arange(1,100,1),np.arange(1,100,1), marker = \".\",label = \"Y=X\", color = \"gray\", alpha = 0.5)\n",
    "ax.plot(np.arange(1,100,1), percentVideo, label = \"Percent Video\", color = \"blue\")\n",
    "plt.title(\"Top channels are not viewed that often (see blue above rest)\")\n",
    "ax.set_xlabel('Percent of top channels')\n",
    "ax.set_ylabel('Cumulative percent')\n",
    "ax.legend()\n",
    "fig.savefig(\"cdf_all_afterRemoved.png\")"
   ]
  },
  {
   "cell_type": "code",
   "execution_count": null,
   "id": "f908af05",
   "metadata": {},
   "outputs": [],
   "source": [
    "# What about rank? Are videos from top channels recommended more often?\n",
    "# NOTE: Earlier, top channel and bottom refer to the percentile\n",
    "prop_lst = np.arange(0.01,0.5,0.01)\n",
    "interest = [\"rank\",\"title\",\"keyword\"]\n",
    "nchannel = len(df[\"channelTitle\"].value_counts())\n",
    "topP_channel = [df[\"channelTitle\"].value_counts().index[:int(nchannel*prop)] for prop in prop_lst]\n",
    "bottomP_channel = [df[\"channelTitle\"].value_counts().index[int(nchannel*(1-prop)):] for prop in prop_lst]"
   ]
  },
  {
   "cell_type": "code",
   "execution_count": null,
   "id": "7c6dbc84",
   "metadata": {},
   "outputs": [],
   "source": [
    "df[description_d]"
   ]
  },
  {
   "cell_type": "code",
   "execution_count": null,
   "id": "c7d42adf",
   "metadata": {},
   "outputs": [],
   "source": [
    "var = \"rank\"\n",
    "top_val = [df[df[\"channelTitle\"].isin(top)][var].mean() for top in topP_channel]\n",
    "bottom_val = [df[df[\"channelTitle\"].isin(bottom)][var].mean() for bottom in bottomP_channel]\n",
    "\n",
    "# Plot of cumulative values for like_dislike_view. \\n\",\n",
    "fig, ax = plt.subplots(figsize=(12,8))\n",
    "ax.set_xlabel('Percentile of channels')\n",
    "ax.set_ylabel('Average value')\n",
    "ax.plot(top_val, label = \"Top\")\n",
    "ax.plot(bottom_val, label = \"Bottom\")\n",
    "ax.set_title(\"Comparing %s from top vs bottom channels\" %(var))\n",
    "ax.legend()"
   ]
  },
  {
   "cell_type": "code",
   "execution_count": null,
   "id": "3fbbccdf",
   "metadata": {},
   "outputs": [],
   "source": [
    "df[df[\"channelTitle\"].isin(top_channel)][\"rank\"].mean()"
   ]
  },
  {
   "cell_type": "code",
   "execution_count": null,
   "id": "5fd00d34",
   "metadata": {},
   "outputs": [],
   "source": [
    "df[df[\"channelTitle\"].isin(bottom_channel)][\"rank\"].mean()"
   ]
  },
  {
   "cell_type": "code",
   "execution_count": null,
   "id": "8a271b8f",
   "metadata": {},
   "outputs": [],
   "source": [
    "top_channel"
   ]
  }
 ],
 "metadata": {
  "kernelspec": {
   "display_name": "Python 3 (ipykernel)",
   "language": "python",
   "name": "python3"
  },
  "language_info": {
   "codemirror_mode": {
    "name": "ipython",
    "version": 3
   },
   "file_extension": ".py",
   "mimetype": "text/x-python",
   "name": "python",
   "nbconvert_exporter": "python",
   "pygments_lexer": "ipython3",
   "version": "3.10.4"
  }
 },
 "nbformat": 4,
 "nbformat_minor": 5
}
