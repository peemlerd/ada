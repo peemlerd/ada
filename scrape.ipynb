{
 "cells": [
  {
   "cell_type": "code",
   "execution_count": 1,
   "id": "d8606672",
   "metadata": {},
   "outputs": [],
   "source": [
    "import glob2\n",
    "import pickle\n",
    "import pandas as pd"
   ]
  },
  {
   "cell_type": "code",
   "execution_count": 2,
   "id": "74adc215",
   "metadata": {},
   "outputs": [],
   "source": [
    "# Setting up pathways\n",
    "indir = \"/Users/lerdp/Box/Peem ADA Project/Data/UnlabeledVideoTranscripts\"\n",
    "outdir = \"/Users/lerdp/Desktop/\"\n",
    "filenames = glob2.glob('%s/*.txt' %(indir))\n",
    "filenames = filenames"
   ]
  },
  {
   "cell_type": "code",
   "execution_count": 29,
   "id": "13a515ca",
   "metadata": {},
   "outputs": [],
   "source": [
    "# Download the transcripts of existing dictionary. \n",
    "infile = open(\"%s/subtitle.pkl\" %(outdir),'rb')\n",
    "new_dict = pickle.load(infile)\n",
    "infile.close()\n",
    "\n",
    "# Because some has already downloaded, create a list of video_ids whose transcript not in dict.\n",
    "missing = []\n",
    "existing = list(new_dict.keys())\n",
    "for file in filenames:\n",
    "    cur = file.strip(indir)\n",
    "    cur = cur[:len(cur)-1]\n",
    "    if cur not in existing:\n",
    "        missing.append(file)"
   ]
  },
  {
   "cell_type": "code",
   "execution_count": 36,
   "id": "2a06bcc6",
   "metadata": {},
   "outputs": [
    {
     "data": {
      "text/plain": [
       "183"
      ]
     },
     "execution_count": 36,
     "metadata": {},
     "output_type": "execute_result"
    }
   ],
   "source": [
    "# dict_missing = {}"
   ]
  },
  {
   "cell_type": "code",
   "execution_count": 41,
   "id": "f3fdf78e",
   "metadata": {
    "scrolled": false
   },
   "outputs": [
    {
     "name": "stdout",
     "output_type": "stream",
     "text": [
      "Finished dict 0\n",
      "Finished dict 50\n",
      "Finished dict 100\n",
      "Finished dict 150\n"
     ]
    }
   ],
   "source": [
    "# Store file as dictionary\n",
    "# TODO: Modify missing to remove. \n",
    "nempty = 0\n",
    "for i, file in enumerate(missing[:184]):\n",
    "    if i%50 == 0:\n",
    "        print(\"Finished dict %i\" %(i))\n",
    "    cur = file.strip(indir)\n",
    "    cur = cur[:len(cur)-1]\n",
    "    with open(file) as infile:\n",
    "        try:\n",
    "            dict_missing[cur] = infile.read()\n",
    "        except:\n",
    "            dict_missing[cur] = \"\"\n",
    "            nempty += 1\n",
    "    infile.close()"
   ]
  },
  {
   "cell_type": "code",
   "execution_count": 47,
   "id": "8aad3398",
   "metadata": {},
   "outputs": [],
   "source": [
    "final_dict = new_dict\n",
    "for key in list(dict_missing.keys()):\n",
    "    final_dict[key] = dict_missing[key]"
   ]
  },
  {
   "cell_type": "code",
   "execution_count": 51,
   "id": "990f948e",
   "metadata": {},
   "outputs": [],
   "source": [
    "f = open(\"%s/subtitle.pkl\" %(outdir),\"wb\")\n",
    "\n",
    "# write the python object (dict) to pickle file\n",
    "pickle.dump(final_dict, f)\n",
    "\n",
    "# close file\n",
    "f.close()"
   ]
  },
  {
   "cell_type": "code",
   "execution_count": 52,
   "id": "7baae80a",
   "metadata": {},
   "outputs": [],
   "source": [
    "infile = open(\"%s/subtitle.pkl\" %(outdir),'rb')\n",
    "new_dict = pickle.load(infile)\n",
    "infile.close()"
   ]
  },
  {
   "cell_type": "code",
   "execution_count": 54,
   "id": "f17d9d28",
   "metadata": {},
   "outputs": [
    {
     "data": {
      "text/plain": [
       "2699"
      ]
     },
     "execution_count": 54,
     "metadata": {},
     "output_type": "execute_result"
    }
   ],
   "source": []
  },
  {
   "cell_type": "code",
   "execution_count": null,
   "id": "dc85a2db",
   "metadata": {},
   "outputs": [],
   "source": []
  }
 ],
 "metadata": {
  "kernelspec": {
   "display_name": "Python 3 (ipykernel)",
   "language": "python",
   "name": "python3"
  },
  "language_info": {
   "codemirror_mode": {
    "name": "ipython",
    "version": 3
   },
   "file_extension": ".py",
   "mimetype": "text/x-python",
   "name": "python",
   "nbconvert_exporter": "python",
   "pygments_lexer": "ipython3",
   "version": "3.10.4"
  }
 },
 "nbformat": 4,
 "nbformat_minor": 5
}
