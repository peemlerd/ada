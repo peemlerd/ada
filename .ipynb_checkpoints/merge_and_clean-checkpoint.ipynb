{
 "cells": [
  {
   "cell_type": "code",
   "execution_count": 77,
   "id": "b990261d",
   "metadata": {},
   "outputs": [],
   "source": [
    "# This notebook is for Peem's attempt to fit all models using labelled data.\n",
    "# Last updated: 18th Feb 2022. \n",
    "import numpy as np\n",
    "import pandas as pd\n",
    "import matplotlib.pyplot as plt\n",
    "import altair as alt\n",
    "pd.options.display.float_format = '{:20,.2f}'.format"
   ]
  },
  {
   "cell_type": "markdown",
   "id": "5b4825ee",
   "metadata": {},
   "source": [
    "# Executive Summary\n",
    "\n",
    "This Jupyter notebook is separated into two parts:\n",
    "1. Merging and cleaning multiple datasets. Each of the PEMAT labels are used to calculated labels on understandability, actionability, and medical information (already exists). \n",
    "2. Created a dictionary of PEMAT Question (Key) and its definition (Value).  \n",
    "3. Performing EDA on 600 videos with PEMAT labels (see description in Part 2).\n",
    "\n",
    "NOTE: I didn't remove entry 275 (URL = 'RQCq-FzeYgA') even though its PEMAT label is entirely NaN. Make sure to remove it in the final analysis. "
   ]
  },
  {
   "cell_type": "markdown",
   "id": "3b171aa7",
   "metadata": {},
   "source": [
    "# Part 1: Cleaning and merging the dataset"
   ]
  },
  {
   "cell_type": "code",
   "execution_count": 78,
   "id": "b61c23b1",
   "metadata": {},
   "outputs": [],
   "source": [
    "df = pd.read_csv(\"content.csv\", sep = \",\")\n",
    "# Downloading the labelled dataset.\n",
    "df_label = pd.read_csv(\"label600.csv\", sep = \",\", encoding=\"ISO-8859-1\")\n",
    "df_label = df_label.T.set_index(0).T\n",
    "df_label = df_label.dropna(axis = 1, how = \"all\")\n",
    "# Downloading the separate metadata and engagement. \n",
    "df_meta = pd.read_csv(\"metadata.csv\", sep = \",\")\n",
    "df_engagement = pd.read_csv(\"engagement.csv\", sep = \",\")\n",
    "\n",
    "# Merge content, metadata, and engagement.\n",
    "# Use the set operation to avoid column duplicates. \n",
    "first = set(df.columns)\n",
    "second = set(df_meta.columns)\n",
    "third = set(df_engagement.columns)\n",
    "second = second - first\n",
    "third = (third - second) - first\n",
    "final = list(first) + list(second) + list(third)\n",
    "\n",
    "# Concatenating all of the dataframe\n",
    "dftemp = pd.concat([df, df_meta[second], df_engagement[third]], axis = 1)\n",
    "df = dftemp"
   ]
  },
  {
   "cell_type": "code",
   "execution_count": 79,
   "id": "a348f16a",
   "metadata": {},
   "outputs": [
    {
     "data": {
      "text/plain": [
       "0                    ['/m/01k8wb', '/m/098wr', '/m/098wr']\n",
       "1                                 ['/m/098wr', '/m/098wr']\n",
       "2                                 ['/m/098wr', '/m/098wr']\n",
       "3        ['/m/019_rr', '/m/0kt51', '/m/019_rr', '/m/0kt...\n",
       "4                               ['/m/01k8wb', '/m/01k8wb']\n",
       "                               ...                        \n",
       "11138    ['/m/02wbm', '/m/019_rr', '/m/019_rr', '/m/02w...\n",
       "11139    ['/m/02wbm', '/m/019_rr', '/m/098wr', '/m/098wr']\n",
       "11140    ['/m/02wbm', '/m/019_rr', '/m/019_rr', '/m/02w...\n",
       "11141                ['/m/019_rr', '/m/098wr', '/m/098wr']\n",
       "11142                                         ['/m/098wr']\n",
       "Name: relevantTopicIds, Length: 11143, dtype: object"
      ]
     },
     "execution_count": 79,
     "metadata": {},
     "output_type": "execute_result"
    }
   ],
   "source": [
    "# TODO: Find how many topics there are, do the connection. \n",
    "# DO the weighting. Linked by at least one video.\n",
    "df[\"relevantTopicIds\"]"
   ]
  },
  {
   "cell_type": "code",
   "execution_count": 80,
   "id": "23688156",
   "metadata": {},
   "outputs": [],
   "source": [
    "# A function to clean the URL in the dataset. \n",
    "def get_id(full_link):\n",
    "    temp = full_link.split(\"=\")\n",
    "    return temp[1]\n",
    "\n",
    "# A function to obtain mapping between PEMAT criterion and its value.\n",
    "def PEMAT_map(df):\n",
    "    \"\"\"\n",
    "    This function accepts the dataframe and returns the dictionary that maps each PEMAT criteria \n",
    "    number to its description.\n",
    "    \"\"\"\n",
    "    PEMAT_dict = {}\n",
    "    for col_name in df.columns.tolist():\n",
    "        try:\n",
    "            split = col_name.split(\".\")\n",
    "            key = split[0]\n",
    "            temp = \"\"\n",
    "            if len(split) > 1:\n",
    "                # Concatenate every remaining string\n",
    "                for i in range(1, len(split)):\n",
    "                    temp += str(split[i])\n",
    "            value = temp\n",
    "            if key != 'This video contain high medical knowledge (0: low; 1: High)':\n",
    "                PEMAT_dict[key] = value         \n",
    "        except:\n",
    "            pass\n",
    "    PEMAT_dict[\"info\"] = \"This video contain high medical knowledge (0: low; 1: High)':\"\n",
    "    return PEMAT_dict\n",
    "\n",
    "# Test if the dictionary is obtained.\n",
    "PEMAT_dict = PEMAT_map(df_label)\n",
    "\n",
    "def greater05(value):\n",
    "    if value >= 0.5:\n",
    "        return 1\n",
    "    return 0"
   ]
  },
  {
   "cell_type": "code",
   "execution_count": 81,
   "id": "6285974b",
   "metadata": {},
   "outputs": [],
   "source": [
    "# Saving the dictionary\n",
    "import pickle \n",
    "d_file = open(\"PEMAT_dict.pkl\", \"wb\")\n",
    "pickle.dump(PEMAT_dict, d_file)\n",
    "d_file.close()\n",
    "\n",
    "d_file = open(\"PEMAT_dict.pkl\", \"rb\")\n",
    "output = pickle.load(d_file)"
   ]
  },
  {
   "cell_type": "code",
   "execution_count": 82,
   "id": "999cb3a9",
   "metadata": {},
   "outputs": [],
   "source": [
    "# Renaming the column\n",
    "temp = {}\n",
    "original_col = df_label.columns.tolist()\n",
    "assert len(original_col) == len(list(PEMAT_dict.keys()))\n",
    "for i, replacer in enumerate(list(PEMAT_dict.keys())):\n",
    "    temp[original_col[i]] = replacer\n",
    "df_label = df_label.rename(columns = temp)\n",
    "\n",
    "# Obtaining the URL\n",
    "df_label[\"URL\"] = df_label.apply(lambda row: get_id(row[\"URL\"]), axis = 1)"
   ]
  },
  {
   "cell_type": "markdown",
   "id": "24a7cd85",
   "metadata": {},
   "source": [
    "# Part 1.1: Checking the distribution of PEMAT labels/medical information"
   ]
  },
  {
   "cell_type": "code",
   "execution_count": 83,
   "id": "e6dd4773",
   "metadata": {},
   "outputs": [],
   "source": [
    "# Now, we have two dataframes: df_label (containing 600 labels), and df (containing 11000 labels).\n",
    "# We want to calculate actionability and understandability.\n",
    "actionable = [str(i) for i in [20,21,22,25]]\n",
    "understandable = [str(i) for i in [1,3,4,5,8,9,10,11,13,14,18,19]]\n",
    "\n",
    "# Change the type from string to int. \n",
    "df_label[actionable] = df_label[actionable].apply(lambda x: pd.to_numeric(x, errors='coerce'))\n",
    "df_label[understandable] = df_label[understandable].apply(lambda x: pd.to_numeric(x, errors='coerce'))\n",
    "\n",
    "# Calculate the mean\n",
    "df_label[\"action\"] = df_label[actionable].mean(axis = 1, skipna = True, numeric_only = True)\n",
    "df_label[\"understand\"] = df_label[understandable].mean(axis = 1, skipna = True, numeric_only = True)\n",
    "\n",
    "# Apply indicator function whether the mean is greater than 0.5\n",
    "df_label[\"action\"] = df_label.apply(lambda row: greater05(row[\"action\"]), axis = 1)\n",
    "df_label[\"understand\"] = df_label.apply(lambda row: greater05(row[\"understand\"]), axis = 1)"
   ]
  },
  {
   "cell_type": "code",
   "execution_count": 84,
   "id": "9a45b544",
   "metadata": {},
   "outputs": [
    {
     "name": "stdout",
     "output_type": "stream",
     "text": [
      "Below are the list of variables I dropped\n",
      "has_tags\n",
      "has_title\n",
      "privacyStatus\n",
      "isCC\n",
      "contentRating.ytRating\n",
      "language\n",
      "uploadStatus\n",
      "audioTrackType\n",
      "favoriteCount\n"
     ]
    }
   ],
   "source": [
    "# Checking if there's any column with only one value (i.e. if every element is the same, cannot be used.)\n",
    "to_drop = []\n",
    "for i, col in enumerate(df.columns):\n",
    "    if df[col].value_counts().shape[0] == 1: # Only one type, so cannot be used for prediction. \n",
    "        to_drop.append(col)\n",
    "df = df.drop(columns = to_drop)\n",
    "print(\"Below are the list of variables I dropped\")\n",
    "for col in to_drop:\n",
    "    print(col)"
   ]
  },
  {
   "cell_type": "code",
   "execution_count": 86,
   "id": "e9175422",
   "metadata": {},
   "outputs": [],
   "source": [
    "# After removing all columns with one input, I saved the 12k without labels into a dataframe.\n",
    "df.to_csv(\"merged_and_cleaned12k.csv\")"
   ]
  },
  {
   "cell_type": "markdown",
   "id": "d26ceac5",
   "metadata": {},
   "source": [
    "# Part 1.3: Merging videos with PEMAT labels with overall 12k."
   ]
  },
  {
   "cell_type": "code",
   "execution_count": 87,
   "id": "b9f3684d",
   "metadata": {},
   "outputs": [],
   "source": [
    "# Perform the matching based on 'URL' in df_label and 'id' in df.\n",
    "# This cell will merge df (12k) with df_label (what is computed from PEMAT) based on URL. \n",
    "# After this cell is computed, df will have only 600 lines. \n",
    "\n",
    "tempdf = df_label[[\"URL\", \"Duration\",\"info\", \"action\", \"understand\"]]\n",
    "\n",
    "# Find all videos in the large dataset with labels. \n",
    "# Results: The dataset has some duplicate. \n",
    "tempdf = tempdf.set_index(\"URL\")\n",
    "try:\n",
    "    df = df.set_index(\"video_id\")\n",
    "except:\n",
    "    pass\n",
    "newdf = tempdf.join(df)\n",
    "\n",
    "# Dropping duplicate entries and storing the cleaned dataset\n",
    "try:\n",
    "    newdf.reset_index(inplace = True)\n",
    "except:\n",
    "    pass \n",
    "newdf = newdf.rename(columns = {\"index\":\"URL\"})\n",
    "newdf = newdf.drop_duplicates(\"URL\")\n",
    "df = newdf\n"
   ]
  },
  {
   "cell_type": "code",
   "execution_count": 88,
   "id": "eb30ad04",
   "metadata": {},
   "outputs": [
    {
     "data": {
      "text/plain": [
       "1.00    421\n",
       "0.00    199\n",
       "Name: info, dtype: int64"
      ]
     },
     "execution_count": 88,
     "metadata": {},
     "output_type": "execute_result"
    }
   ],
   "source": [
    "# Convert every features whose values can be interpreted as numbers.\n",
    "for col in newdf.columns.tolist():\n",
    "    newdf[col] = pd.to_numeric(newdf[col], errors = \"ignore\")\n",
    "newdf[\"info\"].value_counts()"
   ]
  },
  {
   "cell_type": "code",
   "execution_count": 91,
   "id": "54f07395",
   "metadata": {},
   "outputs": [],
   "source": [
    "df.to_csv(\"merged_and_cleaned600.csv\")"
   ]
  },
  {
   "cell_type": "markdown",
   "id": "250bfc50",
   "metadata": {},
   "source": [
    "# Part 2: Checking PEMAT input per questions\n",
    "\n",
    "In the above part, I have merged Xiao's datasets and created two versions: merged_and_cleaned with labels (600) and merged_and_cleaned without labels (11000). The remaining task would be to join them by row_id, if need be. However, it's interesting to examine df_label itself to see what the distribution of each questions are.\n",
    "\n",
    "## Missing values\n",
    "For most of the columns, there are only few missing entries. The noteworthy columns with high misses are 13, 18, 19, 25, which corresponds to clarity of simple graphs/illustrations/etc. These questions may not be applicable to all diabetes videos. Therefore, there's nothing egregious about missingness. \n",
    "\n",
    "## Strange values\n",
    "Medical information (i.e. 'info') has a lot of non-sense values. \n",
    "\n",
    "## Observations\n",
    "1. 75% of the videos are understandable, 25% are not. A simple rule of outputting 1 (i.e. every video is understandable) will achieve 75% accuracy, so **need to think about alternative metrics**. \n",
    "\n",
    "2. Because some PEMAT questions have NaN, I cannot calculate the correlation between each of the response questions.\n",
    "TODO: Ask Larry/Nynke if there's a need to calculate the correlation.\n",
    "\n",
    "3. Actionability and understandability have the correlation coefficient of 0.128. This value is very low. \n",
    "\n",
    "4. Duration (unit: second) is skewed heavily to the right — there are some very lengthy videos. **Need to log-scale if included in the final model.**\n",
    "\n",
    "5. PEMAT criteria with mostly zero entries are 8,9,19,22 (check PEMAT_dict). They all correspond to not breaking down information into small-chunks/actionable steps or lack of informative headers. **This could inform why videos we classify as zero are not understandable/actionable**. \n",
    "\n",
    "6. \"11\" (summary) and \"25\" (graphs/charts to take actions) do not receive good scores. "
   ]
  },
  {
   "cell_type": "code",
   "execution_count": 43,
   "id": "931e88e6",
   "metadata": {},
   "outputs": [
    {
     "data": {
      "text/plain": [
       "0\n",
       "URL             0\n",
       "Title           0\n",
       "Duration        0\n",
       "1               1\n",
       "3               1\n",
       "4               1\n",
       "5               1\n",
       "8               4\n",
       "9               5\n",
       "10              1\n",
       "11              3\n",
       "13            231\n",
       "14             38\n",
       "18            200\n",
       "19            387\n",
       "20              2\n",
       "21              2\n",
       "22              2\n",
       "25            342\n",
       "info            1\n",
       "action          0\n",
       "understand      0\n",
       "dtype: int64"
      ]
     },
     "execution_count": 43,
     "metadata": {},
     "output_type": "execute_result"
    }
   ],
   "source": [
    "# Checking missing values in each column. \n",
    "df_label.isna().sum()"
   ]
  },
  {
   "cell_type": "code",
   "execution_count": 50,
   "id": "341dce33",
   "metadata": {},
   "outputs": [
    {
     "data": {
      "text/html": [
       "<div>\n",
       "<style scoped>\n",
       "    .dataframe tbody tr th:only-of-type {\n",
       "        vertical-align: middle;\n",
       "    }\n",
       "\n",
       "    .dataframe tbody tr th {\n",
       "        vertical-align: top;\n",
       "    }\n",
       "\n",
       "    .dataframe thead th {\n",
       "        text-align: right;\n",
       "    }\n",
       "</style>\n",
       "<table border=\"1\" class=\"dataframe\">\n",
       "  <thead>\n",
       "    <tr style=\"text-align: right;\">\n",
       "      <th></th>\n",
       "      <th>Duration</th>\n",
       "      <th>1</th>\n",
       "      <th>3</th>\n",
       "      <th>4</th>\n",
       "      <th>5</th>\n",
       "      <th>8</th>\n",
       "      <th>9</th>\n",
       "      <th>10</th>\n",
       "      <th>11</th>\n",
       "      <th>13</th>\n",
       "      <th>14</th>\n",
       "      <th>18</th>\n",
       "      <th>19</th>\n",
       "      <th>20</th>\n",
       "      <th>21</th>\n",
       "      <th>22</th>\n",
       "      <th>25</th>\n",
       "      <th>info</th>\n",
       "      <th>action</th>\n",
       "      <th>understand</th>\n",
       "    </tr>\n",
       "  </thead>\n",
       "  <tbody>\n",
       "    <tr>\n",
       "      <th>min</th>\n",
       "      <td>60.00</td>\n",
       "      <td>0.00</td>\n",
       "      <td>0.00</td>\n",
       "      <td>0.00</td>\n",
       "      <td>0.00</td>\n",
       "      <td>0.00</td>\n",
       "      <td>0.00</td>\n",
       "      <td>0.00</td>\n",
       "      <td>0.00</td>\n",
       "      <td>0.00</td>\n",
       "      <td>0.00</td>\n",
       "      <td>0.00</td>\n",
       "      <td>0.00</td>\n",
       "      <td>0.00</td>\n",
       "      <td>0.00</td>\n",
       "      <td>0.00</td>\n",
       "      <td>0.00</td>\n",
       "      <td>NaN</td>\n",
       "      <td>0.00</td>\n",
       "      <td>0.00</td>\n",
       "    </tr>\n",
       "    <tr>\n",
       "      <th>max</th>\n",
       "      <td>6,502.00</td>\n",
       "      <td>1.00</td>\n",
       "      <td>1.00</td>\n",
       "      <td>1.00</td>\n",
       "      <td>1.00</td>\n",
       "      <td>1.00</td>\n",
       "      <td>1.00</td>\n",
       "      <td>1.00</td>\n",
       "      <td>1.00</td>\n",
       "      <td>1.00</td>\n",
       "      <td>1.00</td>\n",
       "      <td>1.00</td>\n",
       "      <td>1.00</td>\n",
       "      <td>1.00</td>\n",
       "      <td>1.00</td>\n",
       "      <td>1.00</td>\n",
       "      <td>1.00</td>\n",
       "      <td>NaN</td>\n",
       "      <td>1.00</td>\n",
       "      <td>1.00</td>\n",
       "    </tr>\n",
       "    <tr>\n",
       "      <th>median</th>\n",
       "      <td>317.00</td>\n",
       "      <td>1.00</td>\n",
       "      <td>1.00</td>\n",
       "      <td>1.00</td>\n",
       "      <td>1.00</td>\n",
       "      <td>0.00</td>\n",
       "      <td>0.00</td>\n",
       "      <td>1.00</td>\n",
       "      <td>0.00</td>\n",
       "      <td>1.00</td>\n",
       "      <td>1.00</td>\n",
       "      <td>1.00</td>\n",
       "      <td>0.00</td>\n",
       "      <td>0.00</td>\n",
       "      <td>1.00</td>\n",
       "      <td>0.00</td>\n",
       "      <td>0.00</td>\n",
       "      <td>1.00</td>\n",
       "      <td>0.00</td>\n",
       "      <td>1.00</td>\n",
       "    </tr>\n",
       "    <tr>\n",
       "      <th>mean</th>\n",
       "      <td>522.88</td>\n",
       "      <td>0.83</td>\n",
       "      <td>0.78</td>\n",
       "      <td>0.63</td>\n",
       "      <td>0.80</td>\n",
       "      <td>0.18</td>\n",
       "      <td>0.16</td>\n",
       "      <td>0.80</td>\n",
       "      <td>0.32</td>\n",
       "      <td>0.77</td>\n",
       "      <td>0.89</td>\n",
       "      <td>0.80</td>\n",
       "      <td>0.22</td>\n",
       "      <td>0.49</td>\n",
       "      <td>0.52</td>\n",
       "      <td>0.18</td>\n",
       "      <td>0.41</td>\n",
       "      <td>NaN</td>\n",
       "      <td>0.47</td>\n",
       "      <td>0.75</td>\n",
       "    </tr>\n",
       "  </tbody>\n",
       "</table>\n",
       "</div>"
      ],
      "text/plain": [
       "0                  Duration                    1                    3  \\\n",
       "min                   60.00                 0.00                 0.00   \n",
       "max                6,502.00                 1.00                 1.00   \n",
       "median               317.00                 1.00                 1.00   \n",
       "mean                 522.88                 0.83                 0.78   \n",
       "\n",
       "0                         4                    5                    8  \\\n",
       "min                    0.00                 0.00                 0.00   \n",
       "max                    1.00                 1.00                 1.00   \n",
       "median                 1.00                 1.00                 0.00   \n",
       "mean                   0.63                 0.80                 0.18   \n",
       "\n",
       "0                         9                   10                   11  \\\n",
       "min                    0.00                 0.00                 0.00   \n",
       "max                    1.00                 1.00                 1.00   \n",
       "median                 0.00                 1.00                 0.00   \n",
       "mean                   0.16                 0.80                 0.32   \n",
       "\n",
       "0                        13                   14                   18  \\\n",
       "min                    0.00                 0.00                 0.00   \n",
       "max                    1.00                 1.00                 1.00   \n",
       "median                 1.00                 1.00                 1.00   \n",
       "mean                   0.77                 0.89                 0.80   \n",
       "\n",
       "0                        19                   20                   21  \\\n",
       "min                    0.00                 0.00                 0.00   \n",
       "max                    1.00                 1.00                 1.00   \n",
       "median                 0.00                 0.00                 1.00   \n",
       "mean                   0.22                 0.49                 0.52   \n",
       "\n",
       "0                        22                   25                 info  \\\n",
       "min                    0.00                 0.00                  NaN   \n",
       "max                    1.00                 1.00                  NaN   \n",
       "median                 0.00                 0.00                 1.00   \n",
       "mean                   0.18                 0.41                  NaN   \n",
       "\n",
       "0                    action           understand  \n",
       "min                    0.00                 0.00  \n",
       "max                    1.00                 1.00  \n",
       "median                 0.00                 1.00  \n",
       "mean                   0.47                 0.75  "
      ]
     },
     "execution_count": 50,
     "metadata": {},
     "output_type": "execute_result"
    }
   ],
   "source": [
    "# Distribution\n",
    "df_label[\"Duration\"] = pd.to_numeric(df_label[\"Duration\"],)\n",
    "numerical_col = df_label.columns.tolist()\n",
    "numerical_col.remove(\"Title\")\n",
    "numerical_col.remove(\"URL\")\n",
    "fare = [\"min\", \"max\", \"median\", \"mean\"]\n",
    "temp = {}\n",
    "for col in numerical_col:\n",
    "    temp[col] = fare\n",
    "df_label.agg(temp)"
   ]
  },
  {
   "cell_type": "code",
   "execution_count": 45,
   "id": "2819d349",
   "metadata": {},
   "outputs": [
    {
     "data": {
      "text/plain": [
       "array([[1.        , 0.12826087],\n",
       "       [0.12826087, 1.        ]])"
      ]
     },
     "execution_count": 45,
     "metadata": {},
     "output_type": "execute_result"
    }
   ],
   "source": [
    "# A code to find the covaraince matrix for each of the PEMAT questions. \n",
    "temp = []\n",
    "for col in  df_label.columns.tolist()[3:19]:\n",
    "    temp.append(df_label[col].tolist())\n",
    "temp = np.array(temp)\n",
    "# TODO: uncomment. np.corrcoef(temp)\n",
    "\n",
    "# Find the correlation between understand and action\n",
    "act_under = np.array([df_label[\"action\"].tolist(), df_label[\"understand\"]])\n",
    "np.corrcoef(act_under)"
   ]
  },
  {
   "cell_type": "code",
   "execution_count": 46,
   "id": "7a153ea7",
   "metadata": {},
   "outputs": [
    {
     "data": {
      "text/plain": [
       "' The material explains how to use the charts, graphs, tables, or diagrams to take actions (0,1,N/A)'"
      ]
     },
     "execution_count": 46,
     "metadata": {},
     "output_type": "execute_result"
    }
   ],
   "source": [
    "PEMAT_dict[\"25\"]"
   ]
  },
  {
   "cell_type": "code",
   "execution_count": 52,
   "id": "53f7e021",
   "metadata": {},
   "outputs": [
    {
     "data": {
      "text/plain": [
       "(array([275]),)"
      ]
     },
     "execution_count": 52,
     "metadata": {},
     "output_type": "execute_result"
    }
   ],
   "source": [
    "np.where(df_label[\"info\"].isna() == True)"
   ]
  },
  {
   "cell_type": "code",
   "execution_count": 99,
   "id": "d35e90b0",
   "metadata": {},
   "outputs": [
    {
     "data": {
      "text/plain": [
       "0\n",
       "URL                                   wCN-6ZiTmu0\n",
       "Title         Extreme Anorexic Returns from Rehab\n",
       "Duration                                      284\n",
       "1                                             NaN\n",
       "3                                             NaN\n",
       "4                                             NaN\n",
       "5                                             NaN\n",
       "8                                             NaN\n",
       "9                                             NaN\n",
       "10                                            NaN\n",
       "11                                            NaN\n",
       "13                                            NaN\n",
       "14                                            NaN\n",
       "18                                            NaN\n",
       "19                                            NaN\n",
       "20                                            NaN\n",
       "21                                            NaN\n",
       "22                                            NaN\n",
       "25                                            NaN\n",
       "info                                          NaN\n",
       "action                                          0\n",
       "understand                                      0\n",
       "Name: 276, dtype: object"
      ]
     },
     "execution_count": 99,
     "metadata": {},
     "output_type": "execute_result"
    }
   ],
   "source": [
    "df_label.iloc[275]"
   ]
  },
  {
   "cell_type": "code",
   "execution_count": 98,
   "id": "67021c8f",
   "metadata": {},
   "outputs": [
    {
     "data": {
      "text/plain": [
       "URL                                                                 RQCq-FzeYgA\n",
       "Duration                                                                    217\n",
       "info                                                                       1.00\n",
       "action                                                                        1\n",
       "understand                                                                    1\n",
       "ARI                                                                        7.57\n",
       "FleshReadingEase                                                          66.54\n",
       "Kincaid                                                                    7.31\n",
       "active_verb                                                               89.00\n",
       "has_description                                                            1.00\n",
       "id                                                                  RQCq-FzeYgA\n",
       "sentence_count                                                            43.00\n",
       "summary_words                                                              0.00\n",
       "transition_words                                                           9.00\n",
       "video_duration                                                           217.00\n",
       "word_count                                                               577.00\n",
       "word_unique                                                              291.00\n",
       "likeCount                                                                445.00\n",
       "captid                                         mRXXbCZVp0oIcGuY-zTjhcOO-GtnrNu3\n",
       "channelViewCount                                                     161,554.00\n",
       "channelVideoCount                                                          1.00\n",
       "contentLicensed                                                            1.00\n",
       "viewCount                                                            161,569.00\n",
       "channelPublishedat                                     2013-07-04T06:20:02.000Z\n",
       "publicStatsViewable                                                        1.00\n",
       "comment                                                                      []\n",
       "license                                                                 youtube\n",
       "keyword                                diabetes and reduced sexual desire women\n",
       "channelSubscriberCount                                                 1,072.00\n",
       "contentDefinition                                                            hd\n",
       "title                         4 Powerful Herbs to Boost Your Sex Drive | Nat...\n",
       "topicIds                                                                    NaN\n",
       "channelTitle                                             Natures Libido Booster\n",
       "isAutoSynced                                                               0.00\n",
       "contentCaption                                                             1.00\n",
       "embeddable                                                                 1.00\n",
       "trackKind                                                              standard\n",
       "channelCommentCount                                                        0.00\n",
       "rank                                                                      46.00\n",
       "contentDuration                                                         PT3M37S\n",
       "channelId                                              UC2yU-ruIb4V7YSWbbccT9XA\n",
       "commentCount                                                               0.00\n",
       "contentDimension                                                             2d\n",
       "channelDescription            Natures Libido Booster | Providing Natural Sex...\n",
       "captsLastUpdated                                       2013-07-10T06:52:24.009Z\n",
       "description                   Natures Libido Booster\\n\\n4 Powerful Herbs to ...\n",
       "subtitle                      ['Hi I&#39;m Simon Talon with natures libido\\n...\n",
       "publishedAt                                            2013-07-10T06:13:07.000Z\n",
       "dislikeCount                                                              40.00\n",
       "relevantTopicIds                                                  ['/m/01k8wb']\n",
       "categoryId                                                                22.00\n",
       "comment_title_cosine                                                       0.00\n",
       "negative_comment_count                                                     0.00\n",
       "keyword_decription_cosine                                                  0.11\n",
       "neutral_comment_count                                                      0.00\n",
       "postive_comment_count                                                      0.00\n",
       "comment_total_words                                                        0.00\n",
       "keyword_title_cosine                                                       0.00\n",
       "comment_description_cosine                                                 0.00\n",
       "comment_unique_words                                                       0.00\n",
       "Name: 418, dtype: object"
      ]
     },
     "execution_count": 98,
     "metadata": {},
     "output_type": "execute_result"
    }
   ],
   "source": [
    "df.iloc[275]"
   ]
  },
  {
   "cell_type": "code",
   "execution_count": null,
   "id": "07672656",
   "metadata": {},
   "outputs": [],
   "source": []
  }
 ],
 "metadata": {
  "kernelspec": {
   "display_name": "Python 3 (ipykernel)",
   "language": "python",
   "name": "python3"
  },
  "language_info": {
   "codemirror_mode": {
    "name": "ipython",
    "version": 3
   },
   "file_extension": ".py",
   "mimetype": "text/x-python",
   "name": "python",
   "nbconvert_exporter": "python",
   "pygments_lexer": "ipython3",
   "version": "3.7.1"
  }
 },
 "nbformat": 4,
 "nbformat_minor": 5
}
